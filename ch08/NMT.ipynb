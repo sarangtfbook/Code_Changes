{
  "nbformat": 4,
  "nbformat_minor": 0,
  "metadata": {
    "colab": {
      "name": "NMT.ipynb",
      "provenance": [],
      "collapsed_sections": [
        "19XzIsCSASpC"
      ]
    },
    "kernelspec": {
      "name": "python3",
      "display_name": "Python 3"
    },
    "accelerator": "GPU"
  },
  "cells": [
    {
      "cell_type": "markdown",
      "metadata": {
        "id": "8S3cxRUAqSqm",
        "colab_type": "text"
      },
      "source": [
        "#**NEURAL MACHINE TRANSLATION USING ENCODER DECODER ATTENTION MODEL**\n",
        "# Translating from English to Spanish"
      ]
    },
    {
      "cell_type": "code",
      "metadata": {
        "id": "a4gGvOI6qQiE",
        "colab_type": "code",
        "colab": {
          "base_uri": "https://localhost:8080/",
          "height": 34
        },
        "outputId": "a827e65f-397a-4aac-9506-db85cb05d694"
      },
      "source": [
        "import tensorflow as tf\n",
        "\n",
        "from tensorflow.keras.models import Model\n",
        "from tensorflow.keras.layers import Input, Dense, LSTM, Embedding, Bidirectional, RepeatVector, Concatenate, Activation, Dot, Lambda\n",
        "from tensorflow.keras.preprocessing.text import Tokenizer\n",
        "from tensorflow.keras.preprocessing.sequence import pad_sequences\n",
        "from keras import preprocessing, utils\n",
        "import numpy as np\n",
        "import matplotlib.pyplot as plt"
      ],
      "execution_count": null,
      "outputs": [
        {
          "output_type": "stream",
          "text": [
            "Using TensorFlow backend.\n"
          ],
          "name": "stderr"
        }
      ]
    },
    {
      "cell_type": "markdown",
      "metadata": {
        "id": "oD630RJhFZvG",
        "colab_type": "text"
      },
      "source": [
        "# Downloading dataset for Spanish to English translation"
      ]
    },
    {
      "cell_type": "code",
      "metadata": {
        "id": "P0inSoUUW7D0",
        "colab_type": "code",
        "colab": {
          "base_uri": "https://localhost:8080/",
          "height": 207
        },
        "outputId": "c261208a-508f-402a-baf0-e90342624e40"
      },
      "source": [
        "!pip install wget\n",
        "import wget \n",
        "url = 'https://raw.githubusercontent.com/Apress/Artificial-Neural-Networks-with-TensorFlow-2/master/ch08/spa.txt'\n",
        "wget.download(url,'spa.txt')"
      ],
      "execution_count": null,
      "outputs": [
        {
          "output_type": "stream",
          "text": [
            "Collecting wget\n",
            "  Downloading https://files.pythonhosted.org/packages/47/6a/62e288da7bcda82b935ff0c6cfe542970f04e29c756b0e147251b2fb251f/wget-3.2.zip\n",
            "Building wheels for collected packages: wget\n",
            "  Building wheel for wget (setup.py) ... \u001b[?25l\u001b[?25hdone\n",
            "  Created wheel for wget: filename=wget-3.2-cp36-none-any.whl size=9682 sha256=a8f21b152142e01b96548d9f0055d59d4e44eb3029e1a66146bf9dd31b2bc2e2\n",
            "  Stored in directory: /root/.cache/pip/wheels/40/15/30/7d8f7cea2902b4db79e3fea550d7d7b85ecb27ef992b618f3f\n",
            "Successfully built wget\n",
            "Installing collected packages: wget\n",
            "Successfully installed wget-3.2\n"
          ],
          "name": "stdout"
        },
        {
          "output_type": "execute_result",
          "data": {
            "text/plain": [
              "'spa.txt'"
            ]
          },
          "metadata": {
            "tags": []
          },
          "execution_count": 2
        }
      ]
    },
    {
      "cell_type": "markdown",
      "metadata": {
        "id": "J6kn_fP_FmFQ",
        "colab_type": "text"
      },
      "source": [
        "# Creating datasets for training "
      ]
    },
    {
      "cell_type": "code",
      "metadata": {
        "id": "kOxLkMQeXS5l",
        "colab_type": "code",
        "colab": {}
      },
      "source": [
        "# reading data\n",
        "with open('/content/spa.txt',encoding='utf-8',errors='ignore') as file:\n",
        "  text=file.read().split('\\n')"
      ],
      "execution_count": null,
      "outputs": []
    },
    {
      "cell_type": "code",
      "metadata": {
        "id": "xayPEBI4FPFL",
        "colab_type": "code",
        "colab": {
          "base_uri": "https://localhost:8080/",
          "height": 34
        },
        "outputId": "8e292828-3e54-4d3a-f16f-0ad38ad9793a"
      },
      "source": [
        "len(text)"
      ],
      "execution_count": null,
      "outputs": [
        {
          "output_type": "execute_result",
          "data": {
            "text/plain": [
              "122937"
            ]
          },
          "metadata": {
            "tags": []
          },
          "execution_count": 4
        }
      ]
    },
    {
      "cell_type": "code",
      "metadata": {
        "id": "zWpkFIJ9XT7P",
        "colab_type": "code",
        "colab": {
          "base_uri": "https://localhost:8080/",
          "height": 102
        },
        "outputId": "c27df932-6226-4af0-aca5-9f7c947ca0fc"
      },
      "source": [
        "text[:5] # input and target data is separated by tab '\\t'"
      ],
      "execution_count": null,
      "outputs": [
        {
          "output_type": "execute_result",
          "data": {
            "text/plain": [
              "['Go.\\tVe.\\tCC-BY 2.0 (France) Attribution: tatoeba.org #2877272 (CM) & #4986655 (cueyayotl)',\n",
              " 'Go.\\tVete.\\tCC-BY 2.0 (France) Attribution: tatoeba.org #2877272 (CM) & #4986656 (cueyayotl)',\n",
              " 'Go.\\tVaya.\\tCC-BY 2.0 (France) Attribution: tatoeba.org #2877272 (CM) & #4986657 (cueyayotl)',\n",
              " 'Go.\\tVáyase.\\tCC-BY 2.0 (France) Attribution: tatoeba.org #2877272 (CM) & #6586271 (arh)',\n",
              " 'Hi.\\tHola.\\tCC-BY 2.0 (France) Attribution: tatoeba.org #538123 (CM) & #431975 (Leono)']"
            ]
          },
          "metadata": {
            "tags": []
          },
          "execution_count": 5
        }
      ]
    },
    {
      "cell_type": "code",
      "metadata": {
        "id": "BwPBrjCQMPHN",
        "colab_type": "code",
        "colab": {
          "base_uri": "https://localhost:8080/",
          "height": 187
        },
        "outputId": "664bf3b4-f0de-4dfb-dd07-c58f19926780"
      },
      "source": [
        "for t in text[100:110]:\n",
        "  print(t)"
      ],
      "execution_count": null,
      "outputs": [
        {
          "output_type": "stream",
          "text": [
            "Be good.\tSed buenas.\tCC-BY 2.0 (France) Attribution: tatoeba.org #7932304 (Seael) & #7932308 (Seael)\n",
            "Be good.\tSed buenos.\tCC-BY 2.0 (France) Attribution: tatoeba.org #7932304 (Seael) & #7932309 (Seael)\n",
            "Be good.\tSea buena.\tCC-BY 2.0 (France) Attribution: tatoeba.org #7932304 (Seael) & #7932310 (Seael)\n",
            "Be good.\tSea bueno.\tCC-BY 2.0 (France) Attribution: tatoeba.org #7932304 (Seael) & #7932311 (Seael)\n",
            "Be good.\tSean buenas.\tCC-BY 2.0 (France) Attribution: tatoeba.org #7932304 (Seael) & #7932313 (Seael)\n",
            "Be good.\tSean buenos.\tCC-BY 2.0 (France) Attribution: tatoeba.org #7932304 (Seael) & #7932315 (Seael)\n",
            "Be kind.\tSean gentiles.\tCC-BY 2.0 (France) Attribution: tatoeba.org #1916315 (CK) & #2092229 (hayastan)\n",
            "Be nice.\tSé agradable.\tCC-BY 2.0 (France) Attribution: tatoeba.org #1916314 (CK) & #5769224 (arh)\n",
            "Beat it.\tPírate.\tCC-BY 2.0 (France) Attribution: tatoeba.org #37902 (CM) & #5769215 (arh)\n",
            "Call me.\tLlamame.\tCC-BY 2.0 (France) Attribution: tatoeba.org #1553532 (CK) & #1555788 (hayastan)\n"
          ],
          "name": "stdout"
        }
      ]
    },
    {
      "cell_type": "code",
      "metadata": {
        "id": "JgZyXDe1W9zs",
        "colab_type": "code",
        "colab": {}
      },
      "source": [
        "input_texts=[] #encoder input\n",
        "target_texts=[] # decoder input"
      ],
      "execution_count": null,
      "outputs": []
    },
    {
      "cell_type": "code",
      "metadata": {
        "id": "reeJV8wuXWNx",
        "colab_type": "code",
        "colab": {}
      },
      "source": [
        "# we will select subset of the whole data\n",
        "NUM_SAMPLES = 10000 \n",
        "for line in text[:NUM_SAMPLES]:\n",
        "  english, spanish  = line.split('\\t')[:2]\n",
        "  target_text = spanish.lower()\n",
        "  input_texts.append(english.lower())\n",
        "  target_texts.append(target_text)"
      ],
      "execution_count": null,
      "outputs": []
    },
    {
      "cell_type": "code",
      "metadata": {
        "id": "9MuF8ycwjkXP",
        "colab_type": "code",
        "colab": {
          "base_uri": "https://localhost:8080/",
          "height": 34
        },
        "outputId": "e39e555a-f304-46cc-bc50-a132d32efda4"
      },
      "source": [
        "print(input_texts[:5],target_texts[:5]) "
      ],
      "execution_count": null,
      "outputs": [
        {
          "output_type": "stream",
          "text": [
            "['go.', 'go.', 'go.', 'go.', 'hi.'] ['ve.', 'vete.', 'vaya.', 'váyase.', 'hola.']\n"
          ],
          "name": "stdout"
        }
      ]
    },
    {
      "cell_type": "markdown",
      "metadata": {
        "id": "3D8BNaIQJEok",
        "colab_type": "text"
      },
      "source": [
        "# Data processing"
      ]
    },
    {
      "cell_type": "code",
      "metadata": {
        "id": "ZAYUCsBb-e6E",
        "colab_type": "code",
        "colab": {
          "base_uri": "https://localhost:8080/",
          "height": 34
        },
        "outputId": "db20ca15-9026-4230-b763-022e051d2e04"
      },
      "source": [
        "import string\n",
        "print('Characters to be removed in preprocessing', string.punctuation)"
      ],
      "execution_count": null,
      "outputs": [
        {
          "output_type": "stream",
          "text": [
            "Characters to be removed in preprocessing !\"#$%&'()*+,-./:;<=>?@[\\]^_`{|}~\n"
          ],
          "name": "stdout"
        }
      ]
    },
    {
      "cell_type": "code",
      "metadata": {
        "id": "9u0sSFNzjxFz",
        "colab_type": "code",
        "colab": {}
      },
      "source": [
        "#removing punctuation from target and input\n",
        "def remove_punctuation(s):\n",
        "  out=s.translate(str.maketrans(\"\",\"\",string.punctuation))\n",
        "  return out"
      ],
      "execution_count": null,
      "outputs": []
    },
    {
      "cell_type": "code",
      "metadata": {
        "id": "luoHf4Gmkt0w",
        "colab_type": "code",
        "colab": {}
      },
      "source": [
        "input_texts = [remove_punctuation(s) for s in input_texts]\n",
        "target_texts = [remove_punctuation(s) for s in target_texts]"
      ],
      "execution_count": null,
      "outputs": []
    },
    {
      "cell_type": "code",
      "metadata": {
        "id": "_Xqn_oz-lIrg",
        "colab_type": "code",
        "colab": {
          "base_uri": "https://localhost:8080/",
          "height": 34
        },
        "outputId": "d0c1673f-132a-49ef-c4be-d5ced69c12be"
      },
      "source": [
        "input_texts[:5],target_texts[:5]"
      ],
      "execution_count": null,
      "outputs": [
        {
          "output_type": "execute_result",
          "data": {
            "text/plain": [
              "(['go', 'go', 'go', 'go', 'hi'], ['ve', 'vete', 'vaya', 'váyase', 'hola'])"
            ]
          },
          "metadata": {
            "tags": []
          },
          "execution_count": 13
        }
      ]
    },
    {
      "cell_type": "code",
      "metadata": {
        "id": "qARJZTi4lnX4",
        "colab_type": "code",
        "colab": {}
      },
      "source": [
        "# adding start and end tags\n",
        "target_texts=['<start> ' + s + ' <end>' for s in target_texts] "
      ],
      "execution_count": null,
      "outputs": []
    },
    {
      "cell_type": "code",
      "metadata": {
        "id": "-_znFOgbl0YL",
        "colab_type": "code",
        "colab": {
          "base_uri": "https://localhost:8080/",
          "height": 34
        },
        "outputId": "cc6cda85-95be-463c-8a2e-13dcb22008e4"
      },
      "source": [
        "target_texts[1]"
      ],
      "execution_count": null,
      "outputs": [
        {
          "output_type": "execute_result",
          "data": {
            "text/plain": [
              "'<start> vete <end>'"
            ]
          },
          "metadata": {
            "tags": []
          },
          "execution_count": 15
        }
      ]
    },
    {
      "cell_type": "markdown",
      "metadata": {
        "id": "pOLva34bNPlp",
        "colab_type": "text"
      },
      "source": [
        "# Tokenizing Input dataset"
      ]
    },
    {
      "cell_type": "code",
      "metadata": {
        "id": "QHYY4qOoXuAU",
        "colab_type": "code",
        "colab": {}
      },
      "source": [
        "tokenizer_in=Tokenizer()\n",
        "#tokenizing the input texts\n",
        "tokenizer_in.fit_on_texts(input_texts) \n",
        "#vocab size of input\n",
        "input_vocab_size=len(tokenizer_in.word_index) + 1  "
      ],
      "execution_count": null,
      "outputs": []
    },
    {
      "cell_type": "code",
      "metadata": {
        "id": "Aat5uMr6R7k_",
        "colab_type": "code",
        "colab": {
          "base_uri": "https://localhost:8080/",
          "height": 34
        },
        "outputId": "bed76320-5b74-4962-91ee-e074c5c3797c"
      },
      "source": [
        "input_vocab_size"
      ],
      "execution_count": null,
      "outputs": [
        {
          "output_type": "execute_result",
          "data": {
            "text/plain": [
              "2332"
            ]
          },
          "metadata": {
            "tags": []
          },
          "execution_count": 17
        }
      ]
    },
    {
      "cell_type": "code",
      "metadata": {
        "id": "_DwePcVHZs7V",
        "colab_type": "code",
        "colab": {
          "base_uri": "https://localhost:8080/",
          "height": 187
        },
        "outputId": "ef343bb0-ad91-4f0e-cd9b-b2b2f6dfa7ef"
      },
      "source": [
        "# Listing few items\n",
        "input_tokens = tokenizer_in.index_word\n",
        "for k,v in sorted(input_tokens.items())[2000:2010]:\n",
        "    print (k,v)"
      ],
      "execution_count": null,
      "outputs": [
        {
          "output_type": "stream",
          "text": [
            "2001 sauce\n",
            "2002 doctors\n",
            "2003 plenty\n",
            "2004 usually\n",
            "2005 credible\n",
            "2006 hopeless\n",
            "2007 starving\n",
            "2008 concept\n",
            "2009 country\n",
            "2010 thought\n"
          ],
          "name": "stdout"
        }
      ]
    },
    {
      "cell_type": "markdown",
      "metadata": {
        "id": "nLNesILnNa56",
        "colab_type": "text"
      },
      "source": [
        "# Tokenizing Output dataset"
      ]
    },
    {
      "cell_type": "code",
      "metadata": {
        "id": "M52lZlikmOJ8",
        "colab_type": "code",
        "colab": {
          "base_uri": "https://localhost:8080/",
          "height": 34
        },
        "outputId": "725bf6e5-1d0d-4d67-cf82-dabcb606da6e"
      },
      "source": [
        "#tokenizing output that is spanish translation\n",
        "tokenizer_out=Tokenizer(filters='') \n",
        "tokenizer_out.fit_on_texts(target_texts) \n",
        "#vocab size of output\n",
        "output_vocab_size=len(tokenizer_out.word_index) + 1  \n",
        "output_vocab_size"
      ],
      "execution_count": null,
      "outputs": [
        {
          "output_type": "execute_result",
          "data": {
            "text/plain": [
              "4964"
            ]
          },
          "metadata": {
            "tags": []
          },
          "execution_count": 19
        }
      ]
    },
    {
      "cell_type": "code",
      "metadata": {
        "id": "8KNs5fheFsRm",
        "colab_type": "code",
        "colab": {
          "base_uri": "https://localhost:8080/",
          "height": 187
        },
        "outputId": "a79eb247-1143-4cb6-882f-c572a7342d2c"
      },
      "source": [
        "# Listing few items\n",
        "output_tokens = tokenizer_out.index_word\n",
        "for k,v in sorted(output_tokens.items())[2000:2010]:\n",
        "    print (k,v)"
      ],
      "execution_count": null,
      "outputs": [
        {
          "output_type": "stream",
          "text": [
            "2001 suyos\n",
            "2002 ley\n",
            "2003 palabras\n",
            "2004 ausente\n",
            "2005 delgaducho\n",
            "2006 sucio\n",
            "2007 adoptado\n",
            "2008 violento\n",
            "2009 roncando\n",
            "2010 podríamos\n"
          ],
          "name": "stdout"
        }
      ]
    },
    {
      "cell_type": "markdown",
      "metadata": {
        "id": "EcgRXYOMEh72",
        "colab_type": "text"
      },
      "source": [
        "#Creating input sequences"
      ]
    },
    {
      "cell_type": "code",
      "metadata": {
        "id": "kQrvkG6ZjgwU",
        "colab_type": "code",
        "colab": {}
      },
      "source": [
        "#converting tokenized sentence into sequences\n",
        "tokenized_input = tokenizer_in.texts_to_sequences( input_texts ) \n",
        "#max length of the input\n",
        "maxlen_input = max( [ len(x) for x in tokenized_input ] ) \n",
        "#padding sequence to the maximum length\n",
        "padded_input = preprocessing.sequence.pad_sequences( tokenized_input , maxlen=maxlen_input , padding='post' ) "
      ],
      "execution_count": null,
      "outputs": []
    },
    {
      "cell_type": "code",
      "metadata": {
        "id": "I7BSAy7MIHZ7",
        "colab_type": "code",
        "colab": {
          "base_uri": "https://localhost:8080/",
          "height": 187
        },
        "outputId": "97f85327-fdfe-42bb-aba2-25e9cebd1543"
      },
      "source": [
        "padded_input[2000:2010]"
      ],
      "execution_count": null,
      "outputs": [
        {
          "output_type": "execute_result",
          "data": {
            "text/plain": [
              "array([[  1, 613, 195,   0,   0],\n",
              "       [  1,  54, 109,   0,   0],\n",
              "       [  1,  54, 109,   0,   0],\n",
              "       [  1,  54, 109,   0,   0],\n",
              "       [  1,  54, 182,   0,   0],\n",
              "       [  1,  54,  14,   0,   0],\n",
              "       [  1,  54,  98,   0,   0],\n",
              "       [  1,  54,  98,   0,   0],\n",
              "       [  1,  54,  10,   0,   0],\n",
              "       [  1,  54,  10,   0,   0]], dtype=int32)"
            ]
          },
          "metadata": {
            "tags": []
          },
          "execution_count": 22
        }
      ]
    },
    {
      "cell_type": "code",
      "metadata": {
        "id": "_JCg9ry_H8QD",
        "colab_type": "code",
        "colab": {
          "base_uri": "https://localhost:8080/",
          "height": 34
        },
        "outputId": "cd447b3d-ca8a-480d-814b-2976456f7788"
      },
      "source": [
        "encoder_input_data = np.array( padded_input )  \n",
        "print( encoder_input_data.shape)"
      ],
      "execution_count": null,
      "outputs": [
        {
          "output_type": "stream",
          "text": [
            "(10000, 5)\n"
          ],
          "name": "stdout"
        }
      ]
    },
    {
      "cell_type": "markdown",
      "metadata": {
        "id": "eMW5uXTyMK7V",
        "colab_type": "text"
      },
      "source": [
        "# Creating output sequences"
      ]
    },
    {
      "cell_type": "code",
      "metadata": {
        "id": "7tR87eLeaqrK",
        "colab_type": "code",
        "colab": {}
      },
      "source": [
        "#converting tokenized text into sequences\n",
        "tokenized_output = tokenizer_out.texts_to_sequences(target_texts)"
      ],
      "execution_count": null,
      "outputs": []
    },
    {
      "cell_type": "code",
      "metadata": {
        "id": "59mUKKOHMPUe",
        "colab_type": "code",
        "colab": {
          "base_uri": "https://localhost:8080/",
          "height": 34
        },
        "outputId": "7afcdd54-3302-4ff8-8831-3b6405da2a39"
      },
      "source": [
        "output_vocab_size=len(tokenizer_out.word_index) + 1\n",
        "output_vocab_size"
      ],
      "execution_count": null,
      "outputs": [
        {
          "output_type": "execute_result",
          "data": {
            "text/plain": [
              "4964"
            ]
          },
          "metadata": {
            "tags": []
          },
          "execution_count": 28
        }
      ]
    },
    {
      "cell_type": "code",
      "metadata": {
        "id": "gtiDOdSiatVc",
        "colab_type": "code",
        "colab": {}
      },
      "source": [
        "# teacher forcing\n",
        "for i in range(len(tokenized_output)) :\n",
        "    tokenized_output[i] = tokenized_output[i][1:] "
      ],
      "execution_count": null,
      "outputs": []
    },
    {
      "cell_type": "code",
      "metadata": {
        "id": "2u8B4O7iawQO",
        "colab_type": "code",
        "colab": {}
      },
      "source": [
        "# padding  \n",
        "maxlen_output = max( [ len(x) for x in tokenized_output ] )\n",
        "padded_output = preprocessing.sequence.pad_sequences( tokenized_output , \n",
        "                                                     maxlen=maxlen_output , \n",
        "                                                     padding='post' )"
      ],
      "execution_count": null,
      "outputs": []
    },
    {
      "cell_type": "code",
      "metadata": {
        "id": "BUiOoW2vazqe",
        "colab_type": "code",
        "colab": {}
      },
      "source": [
        "# converting to numpy \n",
        "decoder_input_data = np.array( padded_output )\n",
        "decoder_input_data[2000:2010]"
      ],
      "execution_count": null,
      "outputs": []
    },
    {
      "cell_type": "code",
      "metadata": {
        "id": "vifsQ7KNa2Sq",
        "colab_type": "code",
        "colab": {}
      },
      "source": [
        "#decoder target output\n",
        "decoder_target_one_hot=np.zeros((len(input_texts),\n",
        "                                 maxlen_output,\n",
        "                                 output_vocab_size),\n",
        "                                 dtype='float32') \n",
        "for i,d in enumerate(padded_output):\n",
        "    for t,word in enumerate(d):\n",
        "        decoder_target_one_hot[i,t,word]=1"
      ],
      "execution_count": null,
      "outputs": []
    },
    {
      "cell_type": "code",
      "metadata": {
        "id": "UuiaSia2cIWH",
        "colab_type": "code",
        "colab": {
          "base_uri": "https://localhost:8080/",
          "height": 136
        },
        "outputId": "c5089a02-3422-4829-99b8-bd0e1309d255"
      },
      "source": [
        "decoder_target_one_hot[0]"
      ],
      "execution_count": null,
      "outputs": [
        {
          "output_type": "execute_result",
          "data": {
            "text/plain": [
              "array([[0., 0., 0., ..., 0., 0., 0.],\n",
              "       [0., 0., 1., ..., 0., 0., 0.],\n",
              "       [1., 0., 0., ..., 0., 0., 0.],\n",
              "       ...,\n",
              "       [1., 0., 0., ..., 0., 0., 0.],\n",
              "       [1., 0., 0., ..., 0., 0., 0.],\n",
              "       [1., 0., 0., ..., 0., 0., 0.]], dtype=float32)"
            ]
          },
          "metadata": {
            "tags": []
          },
          "execution_count": 33
        }
      ]
    },
    {
      "cell_type": "code",
      "metadata": {
        "id": "FMwxEYj_dX8O",
        "colab_type": "code",
        "colab": {
          "base_uri": "https://localhost:8080/",
          "height": 122
        },
        "outputId": "661a3836-dd9f-4d82-fcf6-9afe4a37d6be"
      },
      "source": [
        "from google.colab import drive\n",
        "drive.mount('/content/drive', force_remount=True)"
      ],
      "execution_count": null,
      "outputs": [
        {
          "output_type": "stream",
          "text": [
            "Go to this URL in a browser: https://accounts.google.com/o/oauth2/auth?client_id=947318989803-6bn6qk8qdgf4n4g3pfee6491hc0brc4i.apps.googleusercontent.com&redirect_uri=urn%3aietf%3awg%3aoauth%3a2.0%3aoob&response_type=code&scope=email%20https%3a%2f%2fwww.googleapis.com%2fauth%2fdocs.test%20https%3a%2f%2fwww.googleapis.com%2fauth%2fdrive%20https%3a%2f%2fwww.googleapis.com%2fauth%2fdrive.photos.readonly%20https%3a%2f%2fwww.googleapis.com%2fauth%2fpeopleapi.readonly\n",
            "\n",
            "Enter your authorization code:\n",
            "··········\n",
            "Mounted at /content/drive\n"
          ],
          "name": "stdout"
        }
      ]
    },
    {
      "cell_type": "markdown",
      "metadata": {
        "id": "19XzIsCSASpC",
        "colab_type": "text"
      },
      "source": [
        "# The input sequence is first fed to the embedding layer which converts the words in the input sequences into word vectors. These word vectors are then passed as input to the encoder layer.\n",
        " "
      ]
    },
    {
      "cell_type": "markdown",
      "metadata": {
        "id": "Rt1pYMhQO5pO",
        "colab_type": "text"
      },
      "source": [
        "# Downloading word embedding\n",
        "#### If you have not downloaded the Glove word embedding to your Google drive, uncomment the following lines to download the file."
      ]
    },
    {
      "cell_type": "code",
      "metadata": {
        "id": "ilTZMfZbMeRK",
        "colab_type": "code",
        "colab": {}
      },
      "source": [
        "#!wget http://nlp.stanford.edu/data/glove.6B.zip #downloading glove word embedding layer\n",
        "#!unzip glove*.zip "
      ],
      "execution_count": null,
      "outputs": []
    },
    {
      "cell_type": "markdown",
      "metadata": {
        "id": "2HNnG9v0Aq5z",
        "colab_type": "text"
      },
      "source": [
        "# Word to Vectors dictionary"
      ]
    },
    {
      "cell_type": "code",
      "metadata": {
        "id": "khoyBI5QZ9vd",
        "colab_type": "code",
        "colab": {
          "base_uri": "https://localhost:8080/",
          "height": 51
        },
        "outputId": "df119612-c272-4608-8f16-9b640e95c5c7"
      },
      "source": [
        "#creating dictionary of words corresponding to vectors\n",
        "print('Indexing word vectors.')\n",
        "\n",
        "embeddings_index = {} \n",
        "\n",
        "# Use this open command in case of downloading using wget above\n",
        "#f = open('glove.6B.200d.txt', encoding='utf-8') \n",
        "\n",
        "# we can choose any dimensions 50 100 200 300\n",
        "#f = open('drive/My Drive/tfbookdata/glove.6B.200d.txt', encoding='utf-8')\n",
        "\n",
        "f = open('/content/drive/My Drive/TextGenerationDemo/glove.6B.200d.txt', encoding='utf-8')\n",
        "\n",
        "for line in f:\n",
        "    values = line.split()\n",
        "    word = values[0]\n",
        "    coefs = np.asarray(values[1:], dtype='float32')\n",
        "    embeddings_index[word] = coefs\n",
        "f.close()\n",
        "\n",
        "print('Found %s word vectors.' % len(embeddings_index))"
      ],
      "execution_count": null,
      "outputs": [
        {
          "output_type": "stream",
          "text": [
            "Indexing word vectors.\n",
            "Found 400000 word vectors.\n"
          ],
          "name": "stdout"
        }
      ]
    },
    {
      "cell_type": "code",
      "metadata": {
        "id": "DWFuzlqxPJXO",
        "colab_type": "code",
        "colab": {
          "base_uri": "https://localhost:8080/",
          "height": 714
        },
        "outputId": "ec9a2313-bd86-4302-e244-c8874196ea2e"
      },
      "source": [
        "embeddings_index[\"any\"]"
      ],
      "execution_count": null,
      "outputs": [
        {
          "output_type": "execute_result",
          "data": {
            "text/plain": [
              "array([ 6.3113e-01,  4.3183e-01,  2.3103e-01, -6.4909e-01,  2.3744e-01,\n",
              "        4.4619e-01, -8.6148e-01,  2.9341e-01,  8.0033e-02,  8.5633e-03,\n",
              "        1.0165e-01,  6.2783e-01,  2.5047e-01,  5.2425e-02,  6.3045e-01,\n",
              "       -4.0008e-02,  2.5212e-01,  6.2147e-01,  6.6967e-02, -7.9787e-02,\n",
              "       -2.1607e-02,  3.4236e+00, -4.7925e-02,  2.4620e-01, -2.8834e-02,\n",
              "        4.0330e-02, -2.7858e-01, -2.7939e-01,  3.5606e-01, -5.7373e-01,\n",
              "       -9.9960e-02, -3.2374e-01,  1.7812e-01,  2.0671e-02,  2.3637e-01,\n",
              "       -1.7074e-01, -4.9345e-01, -4.0289e-01, -3.4184e-01, -1.9405e-01,\n",
              "        4.2506e-01, -3.0081e-01,  1.9997e-01,  6.7150e-01, -1.0461e-01,\n",
              "       -8.7182e-03, -4.4562e-02,  1.7045e-01,  6.5912e-01,  8.9096e-02,\n",
              "       -1.4178e-01, -5.8817e-01, -2.9699e-01,  4.5901e-01,  6.1475e-01,\n",
              "        2.2455e-01,  2.8778e-01, -8.0486e-02, -1.6625e-01,  4.9791e-01,\n",
              "       -1.0441e-02, -1.7307e-01, -1.1364e-01, -1.7177e-01,  6.5001e-01,\n",
              "       -2.0709e-01, -2.5923e-03,  6.8332e-01,  1.3556e-01,  4.2812e-01,\n",
              "        7.3191e-01,  9.6278e-02, -1.3272e-01, -2.5073e-01, -2.8397e-01,\n",
              "        4.2765e-01, -2.2704e-01, -9.0328e-01,  1.3683e-01, -2.2358e-01,\n",
              "        7.0136e-02, -6.2926e-02,  3.0040e-01,  1.6226e-01,  7.0656e-03,\n",
              "       -3.0515e-01, -3.3873e-01, -3.4821e-01,  4.5319e-01, -1.2759e+00,\n",
              "        3.5765e-01,  2.8696e-01,  9.5111e-01,  4.9315e-02, -1.0982e-01,\n",
              "       -1.0340e-01, -7.7415e-02,  1.2165e-01, -4.0848e-01,  5.1662e-03,\n",
              "        5.0023e-01,  3.0727e-02, -3.6101e-02, -2.3839e-01, -6.9315e-02,\n",
              "       -3.6846e-02, -2.1026e-02,  1.1545e+00, -7.4401e-02, -2.9412e-01,\n",
              "       -3.4114e-02, -4.6706e-01,  2.0023e-01, -7.7832e-03,  3.5352e-01,\n",
              "       -5.9343e-02,  1.3922e-01, -8.5423e-01, -1.4959e-01, -1.4127e-01,\n",
              "        3.4172e-01,  3.1567e-01,  3.2408e-01,  1.6529e-01, -3.7918e-01,\n",
              "       -2.4857e-01,  2.2490e-01,  3.4110e-01,  2.5160e-01, -1.9514e-01,\n",
              "       -9.2207e-01,  6.1380e-01,  2.6206e-02, -3.9753e-01, -7.4722e-02,\n",
              "        1.7763e-01, -1.1809e-01, -2.3232e-01, -1.3906e-01, -4.5938e-01,\n",
              "        5.2323e-02,  1.7218e-01,  4.3271e-01, -2.3432e-01,  1.3041e+00,\n",
              "        9.5481e-02, -9.7652e-02,  1.6550e-02, -2.0664e-01, -1.7194e-01,\n",
              "       -4.2629e-01,  7.8176e-01, -3.8817e-01,  3.0179e-01, -2.4771e-01,\n",
              "       -1.3819e-01,  4.3340e-02,  1.2504e-01, -1.8626e-01,  2.0074e-01,\n",
              "       -1.6998e-01, -4.6707e-02,  4.8090e-01, -1.8230e-01, -4.7500e-01,\n",
              "        1.3439e-01, -3.1879e-01,  1.1585e-01, -6.8483e-01,  9.3870e-01,\n",
              "        4.9493e-02,  9.8050e-02, -3.5161e-01, -1.7529e-02,  1.3332e-01,\n",
              "       -1.4423e-01, -2.9472e-01,  4.9777e-01,  1.5164e-01,  1.3853e-02,\n",
              "        1.0823e+00, -1.3419e-01, -4.4366e-03, -2.8620e-01,  5.2703e-02,\n",
              "       -4.6192e-02, -8.5992e-02,  2.5092e-01,  3.0081e-01,  3.2117e-01,\n",
              "       -3.6467e-01, -1.4922e-01,  2.5013e-02, -5.4957e-02, -1.4740e-02,\n",
              "        2.2784e-01,  4.8475e-02, -7.4814e-02, -1.2299e-01, -1.1001e-01],\n",
              "      dtype=float32)"
            ]
          },
          "metadata": {
            "tags": []
          },
          "execution_count": 36
        }
      ]
    },
    {
      "cell_type": "markdown",
      "metadata": {
        "id": "-HH_Qsrsca1P",
        "colab_type": "text"
      },
      "source": [
        "## Extracting for our input vocabulary"
      ]
    },
    {
      "cell_type": "code",
      "metadata": {
        "id": "yAUdSLxoaJaV",
        "colab_type": "code",
        "colab": {
          "base_uri": "https://localhost:8080/",
          "height": 34
        },
        "outputId": "78d5748c-4cd8-4537-b224-8e1a63d8fef7"
      },
      "source": [
        "#embedding matrix\n",
        "num_words = len(tokenizer_in.word_index)+1 \n",
        "word2idx_input = tokenizer_in.word_index\n",
        "embedding_matrix = np.zeros((num_words, 200))\n",
        "for word,i in word2idx_input.items():\n",
        "    if i<num_words:\n",
        "        embedding_vector = embeddings_index.get(word)\n",
        "    if embedding_vector is not None:\n",
        "        embedding_matrix[i] = embedding_vector\n",
        "embedding_matrix.shape"
      ],
      "execution_count": null,
      "outputs": [
        {
          "output_type": "execute_result",
          "data": {
            "text/plain": [
              "(2332, 200)"
            ]
          },
          "metadata": {
            "tags": []
          },
          "execution_count": 37
        }
      ]
    },
    {
      "cell_type": "markdown",
      "metadata": {
        "id": "K-QfiMk6rzpp",
        "colab_type": "text"
      },
      "source": [
        "## Embedding layer"
      ]
    },
    {
      "cell_type": "code",
      "metadata": {
        "id": "J5ll5gHC81Lf",
        "colab_type": "code",
        "colab": {}
      },
      "source": [
        "#lstm hidden dimensions\n",
        "LATENT_DIM=256 \n",
        "#embeding layer dimensions\n",
        "EMBEDDING_DIM=200 "
      ],
      "execution_count": null,
      "outputs": []
    },
    {
      "cell_type": "code",
      "metadata": {
        "id": "IK6_KZ-8e99u",
        "colab_type": "code",
        "colab": {}
      },
      "source": [
        "embedding_layer=Embedding(input_vocab_size,\n",
        "                          EMBEDDING_DIM,\n",
        "                          weights=[embedding_matrix],\n",
        "                          input_length=maxlen_input) "
      ],
      "execution_count": null,
      "outputs": []
    },
    {
      "cell_type": "markdown",
      "metadata": {
        "id": "Sp4LXVWuOOIA",
        "colab_type": "text"
      },
      "source": [
        "# Defining Encoder"
      ]
    },
    {
      "cell_type": "code",
      "metadata": {
        "id": "Eef_uysufJUY",
        "colab_type": "code",
        "colab": {}
      },
      "source": [
        "#encoder \n",
        "encoder_inputs = Input(shape=(maxlen_input,), \n",
        "                      name = 'enocderinput') \n",
        "encoder_input = embedding_layer(encoder_inputs)\n",
        "encoder = Bidirectional(LSTM(LATENT_DIM,\n",
        "                             return_sequences=True,\n",
        "                             dropout = 0.3), \n",
        "                        name = 'enocder_bidirection')\n",
        "encoder_outputs = encoder(encoder_input)"
      ],
      "execution_count": null,
      "outputs": []
    },
    {
      "cell_type": "code",
      "metadata": {
        "id": "dHqJDobZPaQ1",
        "colab_type": "code",
        "colab": {
          "base_uri": "https://localhost:8080/",
          "height": 34
        },
        "outputId": "097b84f3-4c20-4f7c-9d42-ccd5355334fb"
      },
      "source": [
        "encoder_outputs.shape"
      ],
      "execution_count": null,
      "outputs": [
        {
          "output_type": "execute_result",
          "data": {
            "text/plain": [
              "TensorShape([None, 5, 512])"
            ]
          },
          "metadata": {
            "tags": []
          },
          "execution_count": 41
        }
      ]
    },
    {
      "cell_type": "markdown",
      "metadata": {
        "id": "2V4CF8ETOSRu",
        "colab_type": "text"
      },
      "source": [
        "# Decoder Network"
      ]
    },
    {
      "cell_type": "code",
      "metadata": {
        "id": "T-V3Auxefmz7",
        "colab_type": "code",
        "colab": {}
      },
      "source": [
        "decoder_inputs = Input(shape=(maxlen_output,), \n",
        "                      name='decoder_input')\n",
        "decoder_embedding = Embedding(output_vocab_size,\n",
        "                             EMBEDDING_DIM,\n",
        "                             name='decoder_embedding')\n",
        "decoder_input=decoder_embedding(decoder_inputs)"
      ],
      "execution_count": null,
      "outputs": []
    },
    {
      "cell_type": "code",
      "metadata": {
        "id": "qGianwtNQVYt",
        "colab_type": "code",
        "colab": {
          "base_uri": "https://localhost:8080/",
          "height": 34
        },
        "outputId": "1a55d9f8-72ec-4d62-e5be-15f7badc9dec"
      },
      "source": [
        "decoder_input.shape"
      ],
      "execution_count": null,
      "outputs": [
        {
          "output_type": "execute_result",
          "data": {
            "text/plain": [
              "TensorShape([None, 9, 200])"
            ]
          },
          "metadata": {
            "tags": []
          },
          "execution_count": 44
        }
      ]
    },
    {
      "cell_type": "markdown",
      "metadata": {
        "id": "cE5ERlhmnAQm",
        "colab_type": "text"
      },
      "source": [
        "## Defining Decoder layers"
      ]
    },
    {
      "cell_type": "code",
      "metadata": {
        "id": "JHFv9eFYgr5T",
        "colab_type": "code",
        "colab": {}
      },
      "source": [
        "#decoder lstm\n",
        "decoder_lstm = LSTM(LATENT_DIM,\n",
        "                    return_state = True,\n",
        "                    name = 'decoder_lstm')\n",
        "#decoder dense with softmax for pedicting each word\n",
        "decoder_dense = Dense(output_vocab_size,\n",
        "                      activation='softmax',\n",
        "                      name='decoder_dense')"
      ],
      "execution_count": null,
      "outputs": []
    },
    {
      "cell_type": "markdown",
      "metadata": {
        "id": "mROL7RAzcct4",
        "colab_type": "text"
      },
      "source": [
        "# Attention Network"
      ]
    },
    {
      "cell_type": "markdown",
      "metadata": {
        "id": "ygyi6vA7gqmF",
        "colab_type": "text"
      },
      "source": [
        "## Defining Softmax layer"
      ]
    },
    {
      "cell_type": "code",
      "metadata": {
        "id": "w44bcYW8xAel",
        "colab_type": "code",
        "colab": {}
      },
      "source": [
        "# Computing alphas\n",
        "import tensorflow.keras.backend as k  \n",
        "def softmax_attention(x): \n",
        "    assert(k.ndim(x)>2)\n",
        "    \n",
        "    e=k.exp(x-k.max(x,axis=1,keepdims=True))\n",
        "    s=k.sum(e,axis=1,keepdims=True)\n",
        "    return e/s"
      ],
      "execution_count": null,
      "outputs": []
    },
    {
      "cell_type": "markdown",
      "metadata": {
        "id": "faNuahIUTgdz",
        "colab_type": "text"
      },
      "source": [
        "# Attention Layers"
      ]
    },
    {
      "cell_type": "code",
      "metadata": {
        "id": "-ltk860rxVC7",
        "colab_type": "code",
        "colab": {}
      },
      "source": [
        "# nerual network layers for our repeated use\n",
        "attention_repeat =  RepeatVector(maxlen_input)\n",
        "attention_concat = Concatenate(axis=-1)\n",
        "dense1_layer = Dense(10,activation='tanh') \n",
        "dense2_layer = Dense(1,activation = softmax_attention) \n",
        "dot_layer = Dot(axes=1)"
      ],
      "execution_count": null,
      "outputs": []
    },
    {
      "cell_type": "code",
      "metadata": {
        "id": "S3Kb7ANxgk4a",
        "colab_type": "code",
        "colab": {}
      },
      "source": [
        "# computing attention context\n",
        "def context_attention(h, st_1):\n",
        "    st_1=attention_repeat(st_1)     \n",
        "    x=attention_concat([h,st_1]) \n",
        "    x=dense1_layer(x) \n",
        "    alphas=dense2_layer(x) \n",
        "    context = dot_layer([alphas,h])  \n",
        "    return context"
      ],
      "execution_count": null,
      "outputs": []
    },
    {
      "cell_type": "markdown",
      "metadata": {
        "id": "prul8ZY1stkH",
        "colab_type": "text"
      },
      "source": [
        "# Collecting outputs"
      ]
    },
    {
      "cell_type": "code",
      "metadata": {
        "id": "Fd7n71Xag1Pj",
        "colab_type": "code",
        "colab": {}
      },
      "source": [
        "#initial states to be fed\n",
        "initial_s = Input(shape=(LATENT_DIM,), name='s0')  \n",
        "initial_c = Input(shape=(LATENT_DIM,), name='c0')\n",
        "context_last_word_concat_layer = Concatenate(axis=2)"
      ],
      "execution_count": null,
      "outputs": []
    },
    {
      "cell_type": "code",
      "metadata": {
        "id": "QJIj-XGbuikw",
        "colab_type": "code",
        "colab": {}
      },
      "source": [
        "s = initial_s \n",
        "c = initial_c\n",
        "outputs = []\n",
        "\n",
        "#collect output in a list at first\n",
        "for t in range(maxlen_output): #ty times\n",
        "    #get the context using attention mechanism\n",
        "    context=context_attention(encoder_outputs,s)\n",
        "    \n",
        "    #we need a different layer for each time step\n",
        "    selector=Lambda(lambda x: x[:,t:t+1])\n",
        "    x_t=selector(decoder_input)\n",
        "    \n",
        "    #combine\n",
        "    decoder_lstm_input=context_last_word_concat_layer([context,x_t])\n",
        "    \n",
        "    #pass the combined [context,last word] into lstm\n",
        "    #along with [s,c]\n",
        "    #get the new[s,c] and output\n",
        "    out,s,c=decoder_lstm(decoder_lstm_input,initial_state=[s,c])\n",
        "    \n",
        "    #final dense layer to get next word prediction\n",
        "    decoder_outputs = decoder_dense(out) \n",
        "    outputs.append(decoder_outputs)"
      ],
      "execution_count": null,
      "outputs": []
    },
    {
      "cell_type": "code",
      "metadata": {
        "id": "rvBg8rK9UAxd",
        "colab_type": "code",
        "colab": {
          "base_uri": "https://localhost:8080/",
          "height": 170
        },
        "outputId": "e6126a7e-9c71-481b-92eb-4a478aa14dfb"
      },
      "source": [
        "outputs"
      ],
      "execution_count": null,
      "outputs": [
        {
          "output_type": "execute_result",
          "data": {
            "text/plain": [
              "[<tf.Tensor 'decoder_dense/Identity:0' shape=(None, 4964) dtype=float32>,\n",
              " <tf.Tensor 'decoder_dense_1/Identity:0' shape=(None, 4964) dtype=float32>,\n",
              " <tf.Tensor 'decoder_dense_2/Identity:0' shape=(None, 4964) dtype=float32>,\n",
              " <tf.Tensor 'decoder_dense_3/Identity:0' shape=(None, 4964) dtype=float32>,\n",
              " <tf.Tensor 'decoder_dense_4/Identity:0' shape=(None, 4964) dtype=float32>,\n",
              " <tf.Tensor 'decoder_dense_5/Identity:0' shape=(None, 4964) dtype=float32>,\n",
              " <tf.Tensor 'decoder_dense_6/Identity:0' shape=(None, 4964) dtype=float32>,\n",
              " <tf.Tensor 'decoder_dense_7/Identity:0' shape=(None, 4964) dtype=float32>,\n",
              " <tf.Tensor 'decoder_dense_8/Identity:0' shape=(None, 4964) dtype=float32>]"
            ]
          },
          "metadata": {
            "tags": []
          },
          "execution_count": 51
        }
      ]
    },
    {
      "cell_type": "code",
      "metadata": {
        "id": "LmkPMMceiWwp",
        "colab_type": "code",
        "colab": {}
      },
      "source": [
        "# 'outputs' is now a list of length Ty\n",
        "# each element is of shape (batch size, output vocab size)\n",
        "# therefore if we simply stack all the outputs into 1 tensor\n",
        "# it would be of shape T x N x D\n",
        "# we would like it to be of shape N x T x D"
      ],
      "execution_count": null,
      "outputs": []
    },
    {
      "cell_type": "code",
      "metadata": {
        "id": "dyocI6JFhGhM",
        "colab_type": "code",
        "colab": {}
      },
      "source": [
        "def stack(x):\n",
        "    x=k.stack(x)\n",
        "    x=k.permute_dimensions(x,pattern=(1,0,2)) \n",
        "    return x"
      ],
      "execution_count": null,
      "outputs": []
    },
    {
      "cell_type": "code",
      "metadata": {
        "id": "6rnV5k4phJ97",
        "colab_type": "code",
        "colab": {
          "base_uri": "https://localhost:8080/",
          "height": 34
        },
        "outputId": "404f8d5c-7f84-462a-cc46-1f2e007f16c4"
      },
      "source": [
        "stacker=Lambda(stack)\n",
        "outputs=stacker(outputs)\n",
        "outputs"
      ],
      "execution_count": null,
      "outputs": [
        {
          "output_type": "execute_result",
          "data": {
            "text/plain": [
              "<tf.Tensor 'lambda_9/Identity:0' shape=(None, 9, 4964) dtype=float32>"
            ]
          },
          "metadata": {
            "tags": []
          },
          "execution_count": 53
        }
      ]
    },
    {
      "cell_type": "markdown",
      "metadata": {
        "id": "_K3cDyhQ0y3i",
        "colab_type": "text"
      },
      "source": [
        "# Defining model"
      ]
    },
    {
      "cell_type": "code",
      "metadata": {
        "id": "mgMmQ4othNKz",
        "colab_type": "code",
        "colab": {}
      },
      "source": [
        "model=Model(inputs=[encoder_inputs,\n",
        "                    decoder_inputs,\n",
        "                    initial_s,\n",
        "                    initial_c],\n",
        "            outputs=outputs)"
      ],
      "execution_count": null,
      "outputs": []
    },
    {
      "cell_type": "code",
      "metadata": {
        "id": "htZx54UI1fU6",
        "colab_type": "code",
        "colab": {
          "base_uri": "https://localhost:8080/",
          "height": 1000
        },
        "outputId": "9da1f40a-227e-4c46-b84a-3be872feda6b"
      },
      "source": [
        "model.summary() "
      ],
      "execution_count": null,
      "outputs": [
        {
          "output_type": "stream",
          "text": [
            "Model: \"model\"\n",
            "__________________________________________________________________________________________________\n",
            "Layer (type)                    Output Shape         Param #     Connected to                     \n",
            "==================================================================================================\n",
            "enocderinput (InputLayer)       [(None, 5)]          0                                            \n",
            "__________________________________________________________________________________________________\n",
            "embedding (Embedding)           (None, 5, 200)       466400      enocderinput[0][0]               \n",
            "__________________________________________________________________________________________________\n",
            "s0 (InputLayer)                 [(None, 256)]        0                                            \n",
            "__________________________________________________________________________________________________\n",
            "enocder_bidirection (Bidirectio (None, 5, 512)       935936      embedding[0][0]                  \n",
            "__________________________________________________________________________________________________\n",
            "repeat_vector (RepeatVector)    (None, 5, 256)       0           s0[0][0]                         \n",
            "                                                                 decoder_lstm[0][1]               \n",
            "                                                                 decoder_lstm[1][1]               \n",
            "                                                                 decoder_lstm[2][1]               \n",
            "                                                                 decoder_lstm[3][1]               \n",
            "                                                                 decoder_lstm[4][1]               \n",
            "                                                                 decoder_lstm[5][1]               \n",
            "                                                                 decoder_lstm[6][1]               \n",
            "                                                                 decoder_lstm[7][1]               \n",
            "__________________________________________________________________________________________________\n",
            "concatenate (Concatenate)       (None, 5, 768)       0           enocder_bidirection[0][0]        \n",
            "                                                                 repeat_vector[0][0]              \n",
            "                                                                 enocder_bidirection[0][0]        \n",
            "                                                                 repeat_vector[1][0]              \n",
            "                                                                 enocder_bidirection[0][0]        \n",
            "                                                                 repeat_vector[2][0]              \n",
            "                                                                 enocder_bidirection[0][0]        \n",
            "                                                                 repeat_vector[3][0]              \n",
            "                                                                 enocder_bidirection[0][0]        \n",
            "                                                                 repeat_vector[4][0]              \n",
            "                                                                 enocder_bidirection[0][0]        \n",
            "                                                                 repeat_vector[5][0]              \n",
            "                                                                 enocder_bidirection[0][0]        \n",
            "                                                                 repeat_vector[6][0]              \n",
            "                                                                 enocder_bidirection[0][0]        \n",
            "                                                                 repeat_vector[7][0]              \n",
            "                                                                 enocder_bidirection[0][0]        \n",
            "                                                                 repeat_vector[8][0]              \n",
            "__________________________________________________________________________________________________\n",
            "dense (Dense)                   (None, 5, 10)        7690        concatenate[0][0]                \n",
            "                                                                 concatenate[1][0]                \n",
            "                                                                 concatenate[2][0]                \n",
            "                                                                 concatenate[3][0]                \n",
            "                                                                 concatenate[4][0]                \n",
            "                                                                 concatenate[5][0]                \n",
            "                                                                 concatenate[6][0]                \n",
            "                                                                 concatenate[7][0]                \n",
            "                                                                 concatenate[8][0]                \n",
            "__________________________________________________________________________________________________\n",
            "decoder_input (InputLayer)      [(None, 9)]          0                                            \n",
            "__________________________________________________________________________________________________\n",
            "dense_1 (Dense)                 (None, 5, 1)         11          dense[0][0]                      \n",
            "                                                                 dense[1][0]                      \n",
            "                                                                 dense[2][0]                      \n",
            "                                                                 dense[3][0]                      \n",
            "                                                                 dense[4][0]                      \n",
            "                                                                 dense[5][0]                      \n",
            "                                                                 dense[6][0]                      \n",
            "                                                                 dense[7][0]                      \n",
            "                                                                 dense[8][0]                      \n",
            "__________________________________________________________________________________________________\n",
            "decoder_embedding (Embedding)   (None, 9, 200)       992800      decoder_input[0][0]              \n",
            "__________________________________________________________________________________________________\n",
            "dot (Dot)                       (None, 1, 512)       0           dense_1[0][0]                    \n",
            "                                                                 enocder_bidirection[0][0]        \n",
            "                                                                 dense_1[1][0]                    \n",
            "                                                                 enocder_bidirection[0][0]        \n",
            "                                                                 dense_1[2][0]                    \n",
            "                                                                 enocder_bidirection[0][0]        \n",
            "                                                                 dense_1[3][0]                    \n",
            "                                                                 enocder_bidirection[0][0]        \n",
            "                                                                 dense_1[4][0]                    \n",
            "                                                                 enocder_bidirection[0][0]        \n",
            "                                                                 dense_1[5][0]                    \n",
            "                                                                 enocder_bidirection[0][0]        \n",
            "                                                                 dense_1[6][0]                    \n",
            "                                                                 enocder_bidirection[0][0]        \n",
            "                                                                 dense_1[7][0]                    \n",
            "                                                                 enocder_bidirection[0][0]        \n",
            "                                                                 dense_1[8][0]                    \n",
            "                                                                 enocder_bidirection[0][0]        \n",
            "__________________________________________________________________________________________________\n",
            "lambda (Lambda)                 (None, 1, 200)       0           decoder_embedding[0][0]          \n",
            "__________________________________________________________________________________________________\n",
            "concatenate_1 (Concatenate)     (None, 1, 712)       0           dot[0][0]                        \n",
            "                                                                 lambda[0][0]                     \n",
            "                                                                 dot[1][0]                        \n",
            "                                                                 lambda_1[0][0]                   \n",
            "                                                                 dot[2][0]                        \n",
            "                                                                 lambda_2[0][0]                   \n",
            "                                                                 dot[3][0]                        \n",
            "                                                                 lambda_3[0][0]                   \n",
            "                                                                 dot[4][0]                        \n",
            "                                                                 lambda_4[0][0]                   \n",
            "                                                                 dot[5][0]                        \n",
            "                                                                 lambda_5[0][0]                   \n",
            "                                                                 dot[6][0]                        \n",
            "                                                                 lambda_6[0][0]                   \n",
            "                                                                 dot[7][0]                        \n",
            "                                                                 lambda_7[0][0]                   \n",
            "                                                                 dot[8][0]                        \n",
            "                                                                 lambda_8[0][0]                   \n",
            "__________________________________________________________________________________________________\n",
            "c0 (InputLayer)                 [(None, 256)]        0                                            \n",
            "__________________________________________________________________________________________________\n",
            "decoder_lstm (LSTM)             [(None, 256), (None, 992256      concatenate_1[0][0]              \n",
            "                                                                 s0[0][0]                         \n",
            "                                                                 c0[0][0]                         \n",
            "                                                                 concatenate_1[1][0]              \n",
            "                                                                 decoder_lstm[0][1]               \n",
            "                                                                 decoder_lstm[0][2]               \n",
            "                                                                 concatenate_1[2][0]              \n",
            "                                                                 decoder_lstm[1][1]               \n",
            "                                                                 decoder_lstm[1][2]               \n",
            "                                                                 concatenate_1[3][0]              \n",
            "                                                                 decoder_lstm[2][1]               \n",
            "                                                                 decoder_lstm[2][2]               \n",
            "                                                                 concatenate_1[4][0]              \n",
            "                                                                 decoder_lstm[3][1]               \n",
            "                                                                 decoder_lstm[3][2]               \n",
            "                                                                 concatenate_1[5][0]              \n",
            "                                                                 decoder_lstm[4][1]               \n",
            "                                                                 decoder_lstm[4][2]               \n",
            "                                                                 concatenate_1[6][0]              \n",
            "                                                                 decoder_lstm[5][1]               \n",
            "                                                                 decoder_lstm[5][2]               \n",
            "                                                                 concatenate_1[7][0]              \n",
            "                                                                 decoder_lstm[6][1]               \n",
            "                                                                 decoder_lstm[6][2]               \n",
            "                                                                 concatenate_1[8][0]              \n",
            "                                                                 decoder_lstm[7][1]               \n",
            "                                                                 decoder_lstm[7][2]               \n",
            "__________________________________________________________________________________________________\n",
            "lambda_1 (Lambda)               (None, 1, 200)       0           decoder_embedding[0][0]          \n",
            "__________________________________________________________________________________________________\n",
            "lambda_2 (Lambda)               (None, 1, 200)       0           decoder_embedding[0][0]          \n",
            "__________________________________________________________________________________________________\n",
            "lambda_3 (Lambda)               (None, 1, 200)       0           decoder_embedding[0][0]          \n",
            "__________________________________________________________________________________________________\n",
            "lambda_4 (Lambda)               (None, 1, 200)       0           decoder_embedding[0][0]          \n",
            "__________________________________________________________________________________________________\n",
            "lambda_5 (Lambda)               (None, 1, 200)       0           decoder_embedding[0][0]          \n",
            "__________________________________________________________________________________________________\n",
            "lambda_6 (Lambda)               (None, 1, 200)       0           decoder_embedding[0][0]          \n",
            "__________________________________________________________________________________________________\n",
            "lambda_7 (Lambda)               (None, 1, 200)       0           decoder_embedding[0][0]          \n",
            "__________________________________________________________________________________________________\n",
            "lambda_8 (Lambda)               (None, 1, 200)       0           decoder_embedding[0][0]          \n",
            "__________________________________________________________________________________________________\n",
            "decoder_dense (Dense)           (None, 4964)         1275748     decoder_lstm[0][0]               \n",
            "                                                                 decoder_lstm[1][0]               \n",
            "                                                                 decoder_lstm[2][0]               \n",
            "                                                                 decoder_lstm[3][0]               \n",
            "                                                                 decoder_lstm[4][0]               \n",
            "                                                                 decoder_lstm[5][0]               \n",
            "                                                                 decoder_lstm[6][0]               \n",
            "                                                                 decoder_lstm[7][0]               \n",
            "                                                                 decoder_lstm[8][0]               \n",
            "__________________________________________________________________________________________________\n",
            "lambda_9 (Lambda)               (None, 9, 4964)      0           decoder_dense[0][0]              \n",
            "                                                                 decoder_dense[1][0]              \n",
            "                                                                 decoder_dense[2][0]              \n",
            "                                                                 decoder_dense[3][0]              \n",
            "                                                                 decoder_dense[4][0]              \n",
            "                                                                 decoder_dense[5][0]              \n",
            "                                                                 decoder_dense[6][0]              \n",
            "                                                                 decoder_dense[7][0]              \n",
            "                                                                 decoder_dense[8][0]              \n",
            "==================================================================================================\n",
            "Total params: 4,670,841\n",
            "Trainable params: 4,670,841\n",
            "Non-trainable params: 0\n",
            "__________________________________________________________________________________________________\n"
          ],
          "name": "stdout"
        }
      ]
    },
    {
      "cell_type": "code",
      "metadata": {
        "id": "55UPCYOlEx57",
        "colab_type": "code",
        "colab": {
          "base_uri": "https://localhost:8080/",
          "height": 632
        },
        "outputId": "1cc6a405-8e14-482f-db36-508e6a3998be"
      },
      "source": [
        "tf.keras.utils.plot_model (model)"
      ],
      "execution_count": null,
      "outputs": [
        {
          "output_type": "execute_result",
          "data": {
            "image/png": "[encoded data removed]",
            "text/plain": [
              "<IPython.core.display.Image object>"
            ]
          },
          "metadata": {
            "tags": []
          },
          "execution_count": 57
        }
      ]
    },
    {
      "cell_type": "code",
      "metadata": {
        "id": "PA0lV0p_hPcK",
        "colab_type": "code",
        "colab": {}
      },
      "source": [
        "model.compile(optimizer='adam',loss='categorical_crossentropy',metrics=['accuracy'])\n"
      ],
      "execution_count": null,
      "outputs": []
    },
    {
      "cell_type": "markdown",
      "metadata": {
        "id": "WzICftVA3O2J",
        "colab_type": "text"
      },
      "source": [
        "Training"
      ]
    },
    {
      "cell_type": "code",
      "metadata": {
        "id": "mBwx1626hR6z",
        "colab_type": "code",
        "colab": {
          "base_uri": "https://localhost:8080/",
          "height": 1000
        },
        "outputId": "9caee13a-41fa-4732-e809-3c5f1c2fd8ba"
      },
      "source": [
        "initial_s_training=np.zeros((NUM_SAMPLES,LATENT_DIM)) #initial s c\n",
        "initial_c_training =np.zeros(shape=(NUM_SAMPLES,LATENT_DIM))\n",
        "r=model.fit([encoder_input_data,\n",
        "             decoder_input_data,\n",
        "             initial_s_training,\n",
        "             initial_c_training],\n",
        "            decoder_target_one_hot,\n",
        "            batch_size=100,\n",
        "            epochs=100,\n",
        "            validation_split=0.3)"
      ],
      "execution_count": null,
      "outputs": [
        {
          "output_type": "stream",
          "text": [
            "Epoch 1/100\n",
            "70/70 [==============================] - 8s 119ms/step - loss: 3.4339 - accuracy: 0.5820 - val_loss: 2.9704 - val_accuracy: 0.5284\n",
            "Epoch 2/100\n",
            "70/70 [==============================] - 5s 72ms/step - loss: 2.3804 - accuracy: 0.6299 - val_loss: 2.8928 - val_accuracy: 0.5671\n",
            "Epoch 3/100\n",
            "70/70 [==============================] - 5s 72ms/step - loss: 2.2940 - accuracy: 0.6489 - val_loss: 2.8660 - val_accuracy: 0.5823\n",
            "Epoch 4/100\n",
            "70/70 [==============================] - 5s 73ms/step - loss: 2.2395 - accuracy: 0.6541 - val_loss: 2.8380 - val_accuracy: 0.5942\n",
            "Epoch 5/100\n",
            "70/70 [==============================] - 5s 73ms/step - loss: 2.1903 - accuracy: 0.6634 - val_loss: 2.7980 - val_accuracy: 0.6008\n",
            "Epoch 6/100\n",
            "70/70 [==============================] - 5s 72ms/step - loss: 2.1476 - accuracy: 0.6687 - val_loss: 2.7690 - val_accuracy: 0.6120\n",
            "Epoch 7/100\n",
            "70/70 [==============================] - 5s 70ms/step - loss: 2.1022 - accuracy: 0.6737 - val_loss: 2.7410 - val_accuracy: 0.6173\n",
            "Epoch 8/100\n",
            "70/70 [==============================] - 5s 71ms/step - loss: 2.0640 - accuracy: 0.6780 - val_loss: 2.7085 - val_accuracy: 0.6211\n",
            "Epoch 9/100\n",
            "70/70 [==============================] - 5s 72ms/step - loss: 2.0181 - accuracy: 0.6840 - val_loss: 2.6900 - val_accuracy: 0.6206\n",
            "Epoch 10/100\n",
            "70/70 [==============================] - 5s 71ms/step - loss: 1.9763 - accuracy: 0.6897 - val_loss: 2.6767 - val_accuracy: 0.6236\n",
            "Epoch 11/100\n",
            "70/70 [==============================] - 5s 72ms/step - loss: 1.9427 - accuracy: 0.6911 - val_loss: 2.6652 - val_accuracy: 0.6237\n",
            "Epoch 12/100\n",
            "70/70 [==============================] - 5s 72ms/step - loss: 1.8983 - accuracy: 0.6958 - val_loss: 2.6368 - val_accuracy: 0.6246\n",
            "Epoch 13/100\n",
            "70/70 [==============================] - 5s 72ms/step - loss: 1.8620 - accuracy: 0.6989 - val_loss: 2.6256 - val_accuracy: 0.6286\n",
            "Epoch 14/100\n",
            "70/70 [==============================] - 5s 72ms/step - loss: 1.8283 - accuracy: 0.7033 - val_loss: 2.6074 - val_accuracy: 0.6325\n",
            "Epoch 15/100\n",
            "70/70 [==============================] - 5s 72ms/step - loss: 1.7954 - accuracy: 0.7047 - val_loss: 2.5796 - val_accuracy: 0.6353\n",
            "Epoch 16/100\n",
            "70/70 [==============================] - 5s 72ms/step - loss: 1.7539 - accuracy: 0.7090 - val_loss: 2.5681 - val_accuracy: 0.6333\n",
            "Epoch 17/100\n",
            "70/70 [==============================] - 5s 72ms/step - loss: 1.7206 - accuracy: 0.7114 - val_loss: 2.5549 - val_accuracy: 0.6320\n",
            "Epoch 18/100\n",
            "70/70 [==============================] - 5s 72ms/step - loss: 1.6834 - accuracy: 0.7154 - val_loss: 2.5236 - val_accuracy: 0.6423\n",
            "Epoch 19/100\n",
            "70/70 [==============================] - 5s 71ms/step - loss: 1.6457 - accuracy: 0.7195 - val_loss: 2.4924 - val_accuracy: 0.6460\n",
            "Epoch 20/100\n",
            "70/70 [==============================] - 5s 72ms/step - loss: 1.6081 - accuracy: 0.7233 - val_loss: 2.4742 - val_accuracy: 0.6503\n",
            "Epoch 21/100\n",
            "70/70 [==============================] - 5s 71ms/step - loss: 1.5701 - accuracy: 0.7272 - val_loss: 2.4637 - val_accuracy: 0.6503\n",
            "Epoch 22/100\n",
            "70/70 [==============================] - 5s 71ms/step - loss: 1.5337 - accuracy: 0.7301 - val_loss: 2.4383 - val_accuracy: 0.6528\n",
            "Epoch 23/100\n",
            "70/70 [==============================] - 5s 72ms/step - loss: 1.4919 - accuracy: 0.7338 - val_loss: 2.4130 - val_accuracy: 0.6566\n",
            "Epoch 24/100\n",
            "70/70 [==============================] - 5s 71ms/step - loss: 1.4526 - accuracy: 0.7375 - val_loss: 2.3929 - val_accuracy: 0.6570\n",
            "Epoch 25/100\n",
            "70/70 [==============================] - 5s 71ms/step - loss: 1.4140 - accuracy: 0.7405 - val_loss: 2.3964 - val_accuracy: 0.6610\n",
            "Epoch 26/100\n",
            "70/70 [==============================] - 5s 71ms/step - loss: 1.3808 - accuracy: 0.7443 - val_loss: 2.3729 - val_accuracy: 0.6621\n",
            "Epoch 27/100\n",
            "70/70 [==============================] - 5s 71ms/step - loss: 1.3427 - accuracy: 0.7475 - val_loss: 2.3630 - val_accuracy: 0.6659\n",
            "Epoch 28/100\n",
            "70/70 [==============================] - 5s 72ms/step - loss: 1.3078 - accuracy: 0.7513 - val_loss: 2.3558 - val_accuracy: 0.6677\n",
            "Epoch 29/100\n",
            "70/70 [==============================] - 5s 72ms/step - loss: 1.2708 - accuracy: 0.7549 - val_loss: 2.3529 - val_accuracy: 0.6700\n",
            "Epoch 30/100\n",
            "70/70 [==============================] - 5s 72ms/step - loss: 1.2371 - accuracy: 0.7570 - val_loss: 2.3406 - val_accuracy: 0.6714\n",
            "Epoch 31/100\n",
            "70/70 [==============================] - 5s 72ms/step - loss: 1.2018 - accuracy: 0.7603 - val_loss: 2.3356 - val_accuracy: 0.6661\n",
            "Epoch 32/100\n",
            "70/70 [==============================] - 5s 71ms/step - loss: 1.1685 - accuracy: 0.7637 - val_loss: 2.3235 - val_accuracy: 0.6746\n",
            "Epoch 33/100\n",
            "70/70 [==============================] - 5s 71ms/step - loss: 1.1359 - accuracy: 0.7673 - val_loss: 2.3229 - val_accuracy: 0.6721\n",
            "Epoch 34/100\n",
            "70/70 [==============================] - 5s 71ms/step - loss: 1.1044 - accuracy: 0.7693 - val_loss: 2.3188 - val_accuracy: 0.6774\n",
            "Epoch 35/100\n",
            "70/70 [==============================] - 5s 72ms/step - loss: 1.0697 - accuracy: 0.7729 - val_loss: 2.3206 - val_accuracy: 0.6761\n",
            "Epoch 36/100\n",
            "70/70 [==============================] - 5s 72ms/step - loss: 1.0362 - accuracy: 0.7769 - val_loss: 2.3174 - val_accuracy: 0.6781\n",
            "Epoch 37/100\n",
            "70/70 [==============================] - 5s 71ms/step - loss: 1.0084 - accuracy: 0.7795 - val_loss: 2.3043 - val_accuracy: 0.6734\n",
            "Epoch 38/100\n",
            "70/70 [==============================] - 5s 72ms/step - loss: 0.9744 - accuracy: 0.7836 - val_loss: 2.2983 - val_accuracy: 0.6796\n",
            "Epoch 39/100\n",
            "70/70 [==============================] - 5s 72ms/step - loss: 0.9449 - accuracy: 0.7871 - val_loss: 2.2924 - val_accuracy: 0.6776\n",
            "Epoch 40/100\n",
            "70/70 [==============================] - 5s 72ms/step - loss: 0.9099 - accuracy: 0.7909 - val_loss: 2.3022 - val_accuracy: 0.6805\n",
            "Epoch 41/100\n",
            "70/70 [==============================] - 5s 72ms/step - loss: 0.8797 - accuracy: 0.7941 - val_loss: 2.2916 - val_accuracy: 0.6787\n",
            "Epoch 42/100\n",
            "70/70 [==============================] - 5s 72ms/step - loss: 0.8516 - accuracy: 0.7988 - val_loss: 2.3013 - val_accuracy: 0.6838\n",
            "Epoch 43/100\n",
            "70/70 [==============================] - 5s 71ms/step - loss: 0.8248 - accuracy: 0.8020 - val_loss: 2.2987 - val_accuracy: 0.6800\n",
            "Epoch 44/100\n",
            "70/70 [==============================] - 5s 71ms/step - loss: 0.7978 - accuracy: 0.8077 - val_loss: 2.2976 - val_accuracy: 0.6818\n",
            "Epoch 45/100\n",
            "70/70 [==============================] - 5s 71ms/step - loss: 0.7727 - accuracy: 0.8104 - val_loss: 2.2851 - val_accuracy: 0.6840\n",
            "Epoch 46/100\n",
            "70/70 [==============================] - 5s 71ms/step - loss: 0.7448 - accuracy: 0.8142 - val_loss: 2.2921 - val_accuracy: 0.6851\n",
            "Epoch 47/100\n",
            "70/70 [==============================] - 5s 71ms/step - loss: 0.7212 - accuracy: 0.8174 - val_loss: 2.2810 - val_accuracy: 0.6868\n",
            "Epoch 48/100\n",
            "70/70 [==============================] - 5s 71ms/step - loss: 0.6961 - accuracy: 0.8223 - val_loss: 2.2834 - val_accuracy: 0.6858\n",
            "Epoch 49/100\n",
            "70/70 [==============================] - 5s 71ms/step - loss: 0.6700 - accuracy: 0.8276 - val_loss: 2.2879 - val_accuracy: 0.6826\n",
            "Epoch 50/100\n",
            "70/70 [==============================] - 5s 71ms/step - loss: 0.6481 - accuracy: 0.8320 - val_loss: 2.2868 - val_accuracy: 0.6879\n",
            "Epoch 51/100\n",
            "70/70 [==============================] - 5s 71ms/step - loss: 0.6261 - accuracy: 0.8353 - val_loss: 2.2876 - val_accuracy: 0.6886\n",
            "Epoch 52/100\n",
            "70/70 [==============================] - 5s 72ms/step - loss: 0.6033 - accuracy: 0.8397 - val_loss: 2.2801 - val_accuracy: 0.6870\n",
            "Epoch 53/100\n",
            "70/70 [==============================] - 5s 71ms/step - loss: 0.5805 - accuracy: 0.8442 - val_loss: 2.2767 - val_accuracy: 0.6856\n",
            "Epoch 54/100\n",
            "70/70 [==============================] - 5s 71ms/step - loss: 0.5658 - accuracy: 0.8459 - val_loss: 2.2876 - val_accuracy: 0.6851\n",
            "Epoch 55/100\n",
            "70/70 [==============================] - 5s 72ms/step - loss: 0.5411 - accuracy: 0.8514 - val_loss: 2.2950 - val_accuracy: 0.6855\n",
            "Epoch 56/100\n",
            "70/70 [==============================] - 5s 71ms/step - loss: 0.5255 - accuracy: 0.8532 - val_loss: 2.2907 - val_accuracy: 0.6870\n",
            "Epoch 57/100\n",
            "70/70 [==============================] - 5s 71ms/step - loss: 0.5066 - accuracy: 0.8578 - val_loss: 2.2884 - val_accuracy: 0.6873\n",
            "Epoch 58/100\n",
            "70/70 [==============================] - 5s 71ms/step - loss: 0.4922 - accuracy: 0.8617 - val_loss: 2.2718 - val_accuracy: 0.6904\n",
            "Epoch 59/100\n",
            "70/70 [==============================] - 5s 71ms/step - loss: 0.4765 - accuracy: 0.8645 - val_loss: 2.2898 - val_accuracy: 0.6889\n",
            "Epoch 60/100\n",
            "70/70 [==============================] - 5s 72ms/step - loss: 0.4609 - accuracy: 0.8663 - val_loss: 2.2873 - val_accuracy: 0.6860\n",
            "Epoch 61/100\n",
            "70/70 [==============================] - 5s 71ms/step - loss: 0.4458 - accuracy: 0.8695 - val_loss: 2.2892 - val_accuracy: 0.6888\n",
            "Epoch 62/100\n",
            "70/70 [==============================] - 5s 72ms/step - loss: 0.4314 - accuracy: 0.8728 - val_loss: 2.2878 - val_accuracy: 0.6887\n",
            "Epoch 63/100\n",
            "70/70 [==============================] - 5s 72ms/step - loss: 0.4207 - accuracy: 0.8734 - val_loss: 2.2849 - val_accuracy: 0.6897\n",
            "Epoch 64/100\n",
            "70/70 [==============================] - 5s 72ms/step - loss: 0.4065 - accuracy: 0.8769 - val_loss: 2.2981 - val_accuracy: 0.6908\n",
            "Epoch 65/100\n",
            "70/70 [==============================] - 5s 73ms/step - loss: 0.3981 - accuracy: 0.8783 - val_loss: 2.3011 - val_accuracy: 0.6910\n",
            "Epoch 66/100\n",
            "70/70 [==============================] - 5s 73ms/step - loss: 0.3848 - accuracy: 0.8811 - val_loss: 2.3227 - val_accuracy: 0.6907\n",
            "Epoch 67/100\n",
            "70/70 [==============================] - 5s 72ms/step - loss: 0.3757 - accuracy: 0.8811 - val_loss: 2.3009 - val_accuracy: 0.6901\n",
            "Epoch 68/100\n",
            "70/70 [==============================] - 5s 71ms/step - loss: 0.3670 - accuracy: 0.8826 - val_loss: 2.3077 - val_accuracy: 0.6922\n",
            "Epoch 69/100\n",
            "70/70 [==============================] - 5s 72ms/step - loss: 0.3575 - accuracy: 0.8854 - val_loss: 2.3053 - val_accuracy: 0.6934\n",
            "Epoch 70/100\n",
            "70/70 [==============================] - 5s 71ms/step - loss: 0.3482 - accuracy: 0.8855 - val_loss: 2.3153 - val_accuracy: 0.6904\n",
            "Epoch 71/100\n",
            "70/70 [==============================] - 5s 71ms/step - loss: 0.3395 - accuracy: 0.8877 - val_loss: 2.3256 - val_accuracy: 0.6911\n",
            "Epoch 72/100\n",
            "70/70 [==============================] - 5s 72ms/step - loss: 0.3291 - accuracy: 0.8907 - val_loss: 2.3243 - val_accuracy: 0.6937\n",
            "Epoch 73/100\n",
            "70/70 [==============================] - 5s 72ms/step - loss: 0.3268 - accuracy: 0.8893 - val_loss: 2.3117 - val_accuracy: 0.6923\n",
            "Epoch 74/100\n",
            "70/70 [==============================] - 5s 71ms/step - loss: 0.3157 - accuracy: 0.8927 - val_loss: 2.3457 - val_accuracy: 0.6906\n",
            "Epoch 75/100\n",
            "70/70 [==============================] - 5s 72ms/step - loss: 0.3088 - accuracy: 0.8936 - val_loss: 2.3268 - val_accuracy: 0.6894\n",
            "Epoch 76/100\n",
            "70/70 [==============================] - 5s 71ms/step - loss: 0.3062 - accuracy: 0.8941 - val_loss: 2.3344 - val_accuracy: 0.6917\n",
            "Epoch 77/100\n",
            "70/70 [==============================] - 5s 72ms/step - loss: 0.2963 - accuracy: 0.8948 - val_loss: 2.3369 - val_accuracy: 0.6899\n",
            "Epoch 78/100\n",
            "70/70 [==============================] - 5s 72ms/step - loss: 0.2924 - accuracy: 0.8970 - val_loss: 2.3344 - val_accuracy: 0.6894\n",
            "Epoch 79/100\n",
            "70/70 [==============================] - 5s 72ms/step - loss: 0.2867 - accuracy: 0.8968 - val_loss: 2.3545 - val_accuracy: 0.6925\n",
            "Epoch 80/100\n",
            "70/70 [==============================] - 5s 71ms/step - loss: 0.2814 - accuracy: 0.8975 - val_loss: 2.3493 - val_accuracy: 0.6946\n",
            "Epoch 81/100\n",
            "70/70 [==============================] - 5s 71ms/step - loss: 0.2777 - accuracy: 0.8980 - val_loss: 2.3514 - val_accuracy: 0.6936\n",
            "Epoch 82/100\n",
            "70/70 [==============================] - 5s 72ms/step - loss: 0.2710 - accuracy: 0.8987 - val_loss: 2.3553 - val_accuracy: 0.6925\n",
            "Epoch 83/100\n",
            "70/70 [==============================] - 5s 71ms/step - loss: 0.2675 - accuracy: 0.8990 - val_loss: 2.3502 - val_accuracy: 0.6898\n",
            "Epoch 84/100\n",
            "70/70 [==============================] - 5s 71ms/step - loss: 0.2632 - accuracy: 0.9005 - val_loss: 2.3714 - val_accuracy: 0.6930\n",
            "Epoch 85/100\n",
            "70/70 [==============================] - 5s 71ms/step - loss: 0.2587 - accuracy: 0.9022 - val_loss: 2.3528 - val_accuracy: 0.6931\n",
            "Epoch 86/100\n",
            "70/70 [==============================] - 5s 71ms/step - loss: 0.2536 - accuracy: 0.9022 - val_loss: 2.3815 - val_accuracy: 0.6948\n",
            "Epoch 87/100\n",
            "70/70 [==============================] - 5s 71ms/step - loss: 0.2508 - accuracy: 0.9025 - val_loss: 2.3717 - val_accuracy: 0.6937\n",
            "Epoch 88/100\n",
            "70/70 [==============================] - 5s 72ms/step - loss: 0.2465 - accuracy: 0.9033 - val_loss: 2.3673 - val_accuracy: 0.6919\n",
            "Epoch 89/100\n",
            "70/70 [==============================] - 5s 71ms/step - loss: 0.2439 - accuracy: 0.9034 - val_loss: 2.3842 - val_accuracy: 0.6923\n",
            "Epoch 90/100\n",
            "70/70 [==============================] - 5s 72ms/step - loss: 0.2442 - accuracy: 0.9026 - val_loss: 2.3849 - val_accuracy: 0.6934\n",
            "Epoch 91/100\n",
            "70/70 [==============================] - 5s 72ms/step - loss: 0.2364 - accuracy: 0.9042 - val_loss: 2.3909 - val_accuracy: 0.6941\n",
            "Epoch 92/100\n",
            "70/70 [==============================] - 5s 72ms/step - loss: 0.2348 - accuracy: 0.9043 - val_loss: 2.3945 - val_accuracy: 0.6935\n",
            "Epoch 93/100\n",
            "70/70 [==============================] - 5s 71ms/step - loss: 0.2317 - accuracy: 0.9045 - val_loss: 2.3944 - val_accuracy: 0.6938\n",
            "Epoch 94/100\n",
            "70/70 [==============================] - 5s 71ms/step - loss: 0.2274 - accuracy: 0.9055 - val_loss: 2.3944 - val_accuracy: 0.6944\n",
            "Epoch 95/100\n",
            "70/70 [==============================] - 5s 71ms/step - loss: 0.2248 - accuracy: 0.9054 - val_loss: 2.4073 - val_accuracy: 0.6932\n",
            "Epoch 96/100\n",
            "70/70 [==============================] - 5s 72ms/step - loss: 0.2218 - accuracy: 0.9062 - val_loss: 2.3969 - val_accuracy: 0.6940\n",
            "Epoch 97/100\n",
            "70/70 [==============================] - 5s 72ms/step - loss: 0.2197 - accuracy: 0.9060 - val_loss: 2.3990 - val_accuracy: 0.6922\n",
            "Epoch 98/100\n",
            "70/70 [==============================] - 5s 72ms/step - loss: 0.2194 - accuracy: 0.9046 - val_loss: 2.4126 - val_accuracy: 0.6946\n",
            "Epoch 99/100\n",
            "70/70 [==============================] - 5s 71ms/step - loss: 0.2178 - accuracy: 0.9050 - val_loss: 2.4074 - val_accuracy: 0.6917\n",
            "Epoch 100/100\n",
            "70/70 [==============================] - 5s 71ms/step - loss: 0.2164 - accuracy: 0.9058 - val_loss: 2.4397 - val_accuracy: 0.6927\n"
          ],
          "name": "stdout"
        }
      ]
    },
    {
      "cell_type": "markdown",
      "metadata": {
        "id": "cHHG2L6V9pPo",
        "colab_type": "text"
      },
      "source": [
        "# Encoder model"
      ]
    },
    {
      "cell_type": "code",
      "metadata": {
        "id": "HTd4mTZthUbb",
        "colab_type": "code",
        "colab": {
          "base_uri": "https://localhost:8080/",
          "height": 255
        },
        "outputId": "9a6dcdc6-ab2d-42fc-ea5f-2e98bdefdbf2"
      },
      "source": [
        "encoder_model = Model(encoder_inputs, encoder_outputs)\n",
        "encoder_model.summary()"
      ],
      "execution_count": null,
      "outputs": [
        {
          "output_type": "stream",
          "text": [
            "Model: \"model_1\"\n",
            "_________________________________________________________________\n",
            "Layer (type)                 Output Shape              Param #   \n",
            "=================================================================\n",
            "enocderinput (InputLayer)    [(None, 5)]               0         \n",
            "_________________________________________________________________\n",
            "embedding (Embedding)        (None, 5, 200)            466400    \n",
            "_________________________________________________________________\n",
            "enocder_bidirection (Bidirec (None, 5, 512)            935936    \n",
            "=================================================================\n",
            "Total params: 1,402,336\n",
            "Trainable params: 1,402,336\n",
            "Non-trainable params: 0\n",
            "_________________________________________________________________\n"
          ],
          "name": "stdout"
        }
      ]
    },
    {
      "cell_type": "code",
      "metadata": {
        "id": "xMiGMofyHmgQ",
        "colab_type": "code",
        "colab": {
          "base_uri": "https://localhost:8080/",
          "height": 272
        },
        "outputId": "9b4cc940-c45e-4b07-bfc2-2387dd0e67af"
      },
      "source": [
        "tf.keras.utils.plot_model (encoder_model)"
      ],
      "execution_count": null,
      "outputs": [
        {
          "output_type": "execute_result",
          "data": {
            "image/png": "[encoded data removed]",
            "text/plain": [
              "<IPython.core.display.Image object>"
            ]
          },
          "metadata": {
            "tags": []
          },
          "execution_count": 61
        }
      ]
    },
    {
      "cell_type": "markdown",
      "metadata": {
        "id": "nf6Apej19una",
        "colab_type": "text"
      },
      "source": [
        "# Decoder Model"
      ]
    },
    {
      "cell_type": "code",
      "metadata": {
        "id": "VjwHS4P1iR_W",
        "colab_type": "code",
        "colab": {}
      },
      "source": [
        "#input will have the length double of latent dimension due to bidirectional\n",
        "encoder_outputs_as_input = Input(shape=(maxlen_input, LATENT_DIM* 2,)) \n",
        "#we are going to predict one word at a time with input of one word\n",
        "decoder_input_embedding = Input(shape=(1,))                \n",
        "decoder_input_ = decoder_embedding(decoder_input_embedding) "
      ],
      "execution_count": null,
      "outputs": []
    },
    {
      "cell_type": "code",
      "metadata": {
        "id": "16oqWEWPiaZL",
        "colab_type": "code",
        "colab": {}
      },
      "source": [
        "#calculating context\n",
        "context = context_attention(encoder_outputs_as_input, initial_s)"
      ],
      "execution_count": null,
      "outputs": []
    },
    {
      "cell_type": "code",
      "metadata": {
        "id": "UEqhvkheid2t",
        "colab_type": "code",
        "colab": {}
      },
      "source": [
        "decoder_lstm_input = context_last_word_concat_layer(\n",
        "    [context, decoder_input_])"
      ],
      "execution_count": null,
      "outputs": []
    },
    {
      "cell_type": "code",
      "metadata": {
        "id": "if6wdhSOigHk",
        "colab_type": "code",
        "colab": {}
      },
      "source": [
        "out, s, c = decoder_lstm(decoder_lstm_input,                        \n",
        "                       initial_state=[initial_s, initial_c]) \n",
        "decoder_outputs = decoder_dense(out) "
      ],
      "execution_count": null,
      "outputs": []
    },
    {
      "cell_type": "code",
      "metadata": {
        "id": "0oKQDbdeijQj",
        "colab_type": "code",
        "colab": {
          "base_uri": "https://localhost:8080/",
          "height": 680
        },
        "outputId": "ff901175-ca73-4b4a-f592-20541e357cd3"
      },
      "source": [
        "decoder_model = Model(\n",
        "  inputs=[\n",
        "    decoder_input_embedding,\n",
        "    encoder_outputs_as_input,\n",
        "    initial_s, \n",
        "    initial_c\n",
        "  ],\n",
        "  outputs=[decoder_outputs, s, c]\n",
        ")\n",
        "decoder_model.summary()"
      ],
      "execution_count": null,
      "outputs": [
        {
          "output_type": "stream",
          "text": [
            "Model: \"model_2\"\n",
            "__________________________________________________________________________________________________\n",
            "Layer (type)                    Output Shape         Param #     Connected to                     \n",
            "==================================================================================================\n",
            "s0 (InputLayer)                 [(None, 256)]        0                                            \n",
            "__________________________________________________________________________________________________\n",
            "input_1 (InputLayer)            [(None, 5, 512)]     0                                            \n",
            "__________________________________________________________________________________________________\n",
            "repeat_vector (RepeatVector)    (None, 5, 256)       0           s0[0][0]                         \n",
            "__________________________________________________________________________________________________\n",
            "concatenate (Concatenate)       (None, 5, 768)       0           input_1[0][0]                    \n",
            "                                                                 repeat_vector[9][0]              \n",
            "__________________________________________________________________________________________________\n",
            "dense (Dense)                   (None, 5, 10)        7690        concatenate[9][0]                \n",
            "__________________________________________________________________________________________________\n",
            "dense_1 (Dense)                 (None, 5, 1)         11          dense[9][0]                      \n",
            "__________________________________________________________________________________________________\n",
            "input_2 (InputLayer)            [(None, 1)]          0                                            \n",
            "__________________________________________________________________________________________________\n",
            "dot (Dot)                       (None, 1, 512)       0           dense_1[9][0]                    \n",
            "                                                                 input_1[0][0]                    \n",
            "__________________________________________________________________________________________________\n",
            "decoder_embedding (Embedding)   multiple             992800      input_2[0][0]                    \n",
            "__________________________________________________________________________________________________\n",
            "concatenate_1 (Concatenate)     (None, 1, 712)       0           dot[9][0]                        \n",
            "                                                                 decoder_embedding[1][0]          \n",
            "__________________________________________________________________________________________________\n",
            "c0 (InputLayer)                 [(None, 256)]        0                                            \n",
            "__________________________________________________________________________________________________\n",
            "decoder_lstm (LSTM)             [(None, 256), (None, 992256      concatenate_1[9][0]              \n",
            "                                                                 s0[0][0]                         \n",
            "                                                                 c0[0][0]                         \n",
            "__________________________________________________________________________________________________\n",
            "decoder_dense (Dense)           (None, 4964)         1275748     decoder_lstm[9][0]               \n",
            "==================================================================================================\n",
            "Total params: 3,268,505\n",
            "Trainable params: 3,268,505\n",
            "Non-trainable params: 0\n",
            "__________________________________________________________________________________________________\n"
          ],
          "name": "stdout"
        }
      ]
    },
    {
      "cell_type": "code",
      "metadata": {
        "id": "exFr56k3I-Fn",
        "colab_type": "code",
        "colab": {}
      },
      "source": [
        "#tf.keras.utils.plot_model (decoder_model,to_file='decoder_model.jpg')\n",
        "tf.keras.utils.plot_model (decoder_model)"
      ],
      "execution_count": null,
      "outputs": []
    },
    {
      "cell_type": "markdown",
      "metadata": {
        "id": "rBVj0CVJ_GWD",
        "colab_type": "text"
      },
      "source": [
        "# Translating"
      ]
    },
    {
      "cell_type": "code",
      "metadata": {
        "id": "U0jxeTOwimKj",
        "colab_type": "code",
        "colab": {}
      },
      "source": [
        "word2index_input=tokenizer_in.word_index\n",
        "word2index_output=tokenizer_out.word_index\n",
        "#reverse mapping integer to words for english\n",
        "idx2word_eng = {v:k for k, v in word2index_input.items()}  \n",
        "#reverse mapping integer to words for spanish\n",
        "idx2word_trans = {v:k for k, v in word2index_output.items()}  "
      ],
      "execution_count": null,
      "outputs": []
    },
    {
      "cell_type": "code",
      "metadata": {
        "id": "D9xLdWx8i5X8",
        "colab_type": "code",
        "colab": {}
      },
      "source": [
        "def decode_sequence(input_seq):\n",
        "  # Encode the input as state vectors.\n",
        "  enc_out = encoder_model.predict(input_seq) \n",
        "\n",
        "  # Generate empty target sequence of length 1.\n",
        "  target_seq = np.zeros((1, 1))\n",
        "  \n",
        "  # Populate the first character of target sequence with the start character.\n",
        "  # NOTE: tokenizer lower-cases all words\n",
        "  target_seq[0, 0] = word2index_output['<start>']\n",
        "\n",
        "  # if we get this we break\n",
        "  End_statement = word2index_output['<end>'] \n",
        "\n",
        "  # [s, c] will be updated in each loop iteration\n",
        "  s = np.zeros((1,LATENT_DIM))\n",
        "  c = np.zeros((1,LATENT_DIM))\n",
        "\n",
        "  # Create the translation\n",
        "  output_sentence = []\n",
        "  for _ in range(maxlen_output):\n",
        "    out, s, c = decoder_model.predict([target_seq, enc_out, s, c]) \n",
        "        \n",
        "    # Get next word\n",
        "    index = np.argmax(out.flatten()) \n",
        "\n",
        "    # End sentence\n",
        "    if End_statement == index: \n",
        "      break\n",
        "\n",
        "    word = ''\n",
        "    if index > 0:\n",
        "      word = idx2word_trans[index]\n",
        "      output_sentence.append(word)\n",
        "\n",
        "    # Update the decoder input\n",
        "    # which is just the word just generated\n",
        "    target_seq[0, 0] = index\n",
        "\n",
        "  return ' '.join(output_sentence)"
      ],
      "execution_count": null,
      "outputs": []
    },
    {
      "cell_type": "code",
      "metadata": {
        "id": "LCKAfs5Z0HDu",
        "colab_type": "code",
        "colab": {
          "base_uri": "https://localhost:8080/",
          "height": 187
        },
        "outputId": "fb6d14ae-1f8c-480e-e1e3-52e503475482"
      },
      "source": [
        "count=0\n",
        "while (count<5):\n",
        "  \n",
        "  input_text=[str(input('input the sentence : '))]\n",
        "  seq=tokenizer_in.texts_to_sequences(input_text)\n",
        "  \n",
        "  input_seq=pad_sequences(seq,maxlen=maxlen_input,padding='post')\n",
        "  translation=decode_sequence(input_seq)\n",
        "  \n",
        "  print('Predicted translation:', translation)\n",
        "  count+=1"
      ],
      "execution_count": null,
      "outputs": [
        {
          "output_type": "stream",
          "text": [
            "input the sentence : Hello\n",
            "Predicted translation: hola\n",
            "input the sentence : How are you?\n",
            "Predicted translation: ¿qué están\n",
            "input the sentence : What are you doing?\n",
            "Predicted translation: ¿qué te te\n",
            "input the sentence : see you later\n",
            "Predicted translation: hasta vemos\n",
            "input the sentence : bye\n",
            "Predicted translation: ¡has\n"
          ],
          "name": "stdout"
        }
      ]
    }
  ]
}