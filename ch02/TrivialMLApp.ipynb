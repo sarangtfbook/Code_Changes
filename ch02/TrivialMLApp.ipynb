{
  "nbformat": 4,
  "nbformat_minor": 0,
  "metadata": {
    "colab": {
      "name": "Ch2TrivialMLApp.ipynb",
      "provenance": [],
      "collapsed_sections": [],
      "include_colab_link": true
    },
    "kernelspec": {
      "name": "python3",
      "display_name": "Python 3"
    }
  },
  "cells": [
    {
      "cell_type": "markdown",
      "metadata": {
        "id": "view-in-github",
        "colab_type": "text"
      },
      "source": [
        "<a href=\"https://colab.research.google.com/github/ABCOM2000/TensorFlowBook/blob/master/Ch2TrivialMLApp.ipynb\" target=\"_parent\"><img src=\"https://colab.research.google.com/assets/colab-badge.svg\" alt=\"Open In Colab\"/></a>"
      ]
    },
    {
      "cell_type": "code",
      "metadata": {
        "id": "Y8qzqPQouOtp",
        "colab_type": "code",
        "outputId": "1c9b8e04-84df-4b73-b544-ad42e790c352",
        "colab": {
          "base_uri": "https://localhost:8080/",
          "height": 34
        }
      },
      "source": [
        "%tensorflow_version 2.x"
      ],
      "execution_count": 1,
      "outputs": [
        {
          "output_type": "stream",
          "text": [
            "TensorFlow 2.x selected.\n"
          ],
          "name": "stdout"
        }
      ]
    },
    {
      "cell_type": "code",
      "metadata": {
        "id": "rGiJXK2TwjV6",
        "colab_type": "code",
        "colab": {}
      },
      "source": [
        "import tensorflow as tf"
      ],
      "execution_count": 0,
      "outputs": []
    },
    {
      "cell_type": "code",
      "metadata": {
        "id": "EEAm8n_xwv2m",
        "colab_type": "code",
        "colab": {}
      },
      "source": [
        "import numpy as np"
      ],
      "execution_count": 0,
      "outputs": []
    },
    {
      "cell_type": "code",
      "metadata": {
        "id": "qlitvQ1Zw1nx",
        "colab_type": "code",
        "colab": {}
      },
      "source": [
        "number_of_data_points = 1000"
      ],
      "execution_count": 0,
      "outputs": []
    },
    {
      "cell_type": "markdown",
      "metadata": {
        "id": "DGtKXcXr-Hg5",
        "colab_type": "text"
      },
      "source": [
        "# Explain random.uniform.\n",
        "## This random.uniform module of numpy package helps us to generate random samples which are uniformly distributed over a given range which we pass as paramter.\n",
        "\n",
        "##Parameters:\n",
        "###low : The number from where the generation will start.\n",
        "###high : The number where the generation of samples will end.\n",
        "###size : The number of samples we want"
      ]
    },
    {
      "cell_type": "code",
      "metadata": {
        "id": "y50P4e56xSeR",
        "colab_type": "code",
        "colab": {}
      },
      "source": [
        "x = np.random.uniform(low = -5 , high = 5 , size = (number_of_data_points, 1))"
      ],
      "execution_count": 0,
      "outputs": []
    },
    {
      "cell_type": "markdown",
      "metadata": {
        "id": "f4ktbQLw_BMp",
        "colab_type": "text"
      },
      "source": [
        "# Print all output to a single decimal"
      ]
    },
    {
      "cell_type": "code",
      "metadata": {
        "id": "Khs1qmtu-aUi",
        "colab_type": "code",
        "outputId": "f2ff8ced-56f2-432d-a1e5-6f1ac03cc6e1",
        "colab": {
          "base_uri": "https://localhost:8080/",
          "height": 102
        }
      },
      "source": [
        "x[:5,:]"
      ],
      "execution_count": 6,
      "outputs": [
        {
          "output_type": "execute_result",
          "data": {
            "text/plain": [
              "array([[ 0.83033105],\n",
              "       [ 1.85749785],\n",
              "       [-3.74936604],\n",
              "       [-0.94859822],\n",
              "       [-1.38859238]])"
            ]
          },
          "metadata": {
            "tags": []
          },
          "execution_count": 6
        }
      ]
    },
    {
      "cell_type": "markdown",
      "metadata": {
        "id": "TaX5kSLhmRzf",
        "colab_type": "text"
      },
      "source": [
        "#Printing the output to single decimal"
      ]
    },
    {
      "cell_type": "code",
      "metadata": {
        "id": "EB5VfFC7mMbh",
        "colab_type": "code",
        "outputId": "ecb6b174-7836-49c9-9f56-c6812c800b26",
        "colab": {
          "base_uri": "https://localhost:8080/",
          "height": 102
        }
      },
      "source": [
        "x[:5,:].round(1)"
      ],
      "execution_count": 7,
      "outputs": [
        {
          "output_type": "execute_result",
          "data": {
            "text/plain": [
              "array([[ 0.8],\n",
              "       [ 1.9],\n",
              "       [-3.7],\n",
              "       [-0.9],\n",
              "       [-1.4]])"
            ]
          },
          "metadata": {
            "tags": []
          },
          "execution_count": 7
        }
      ]
    },
    {
      "cell_type": "code",
      "metadata": {
        "id": "Awp_iZ_WxVYL",
        "colab_type": "code",
        "colab": {}
      },
      "source": [
        "y = np.random.uniform(-5 , 5 , size = (number_of_data_points , 1))"
      ],
      "execution_count": 0,
      "outputs": []
    },
    {
      "cell_type": "code",
      "metadata": {
        "id": "n_j2gFn_-igK",
        "colab_type": "code",
        "outputId": "60ee1b16-8292-47dc-ea3a-7228465a0754",
        "colab": {
          "base_uri": "https://localhost:8080/",
          "height": 102
        }
      },
      "source": [
        "y[:5,:]"
      ],
      "execution_count": 9,
      "outputs": [
        {
          "output_type": "execute_result",
          "data": {
            "text/plain": [
              "array([[ 2.04832314],\n",
              "       [-1.02722265],\n",
              "       [-3.79171326],\n",
              "       [ 0.83595014],\n",
              "       [ 3.37870227]])"
            ]
          },
          "metadata": {
            "tags": []
          },
          "execution_count": 9
        }
      ]
    },
    {
      "cell_type": "code",
      "metadata": {
        "id": "TuHQ1pIgmZeX",
        "colab_type": "code",
        "outputId": "f0f341cd-1e93-43c1-9153-176fd45ef167",
        "colab": {
          "base_uri": "https://localhost:8080/",
          "height": 102
        }
      },
      "source": [
        "y[:5,:].round(1)"
      ],
      "execution_count": 10,
      "outputs": [
        {
          "output_type": "execute_result",
          "data": {
            "text/plain": [
              "array([[ 2. ],\n",
              "       [-1. ],\n",
              "       [-3.8],\n",
              "       [ 0.8],\n",
              "       [ 3.4]])"
            ]
          },
          "metadata": {
            "tags": []
          },
          "execution_count": 10
        }
      ]
    },
    {
      "cell_type": "code",
      "metadata": {
        "id": "9FW4CPjUxgnZ",
        "colab_type": "code",
        "colab": {}
      },
      "source": [
        "bias = np.random.uniform(low =-1 , high =1, size = (number_of_data_points, 1))"
      ],
      "execution_count": 0,
      "outputs": []
    },
    {
      "cell_type": "code",
      "metadata": {
        "id": "c31HdlC3xm-j",
        "colab_type": "code",
        "colab": {}
      },
      "source": [
        "z = 7*x + 6*y + 5 + bias"
      ],
      "execution_count": 0,
      "outputs": []
    },
    {
      "cell_type": "code",
      "metadata": {
        "id": "R74zeXwy-sZP",
        "colab_type": "code",
        "outputId": "e41f5bc1-4985-42d0-840b-27ac2a76740e",
        "colab": {
          "base_uri": "https://localhost:8080/",
          "height": 102
        }
      },
      "source": [
        "z[:5,:].round(1)"
      ],
      "execution_count": 13,
      "outputs": [
        {
          "output_type": "execute_result",
          "data": {
            "text/plain": [
              "array([[ 22.6],\n",
              "       [ 11.1],\n",
              "       [-44.3],\n",
              "       [  4.3],\n",
              "       [ 16. ]])"
            ]
          },
          "metadata": {
            "tags": []
          },
          "execution_count": 13
        }
      ]
    },
    {
      "cell_type": "code",
      "metadata": {
        "id": "hSubYYbh4aNO",
        "colab_type": "code",
        "colab": {}
      },
      "source": [
        "input_1 = np.column_stack((x,y))"
      ],
      "execution_count": 0,
      "outputs": []
    },
    {
      "cell_type": "code",
      "metadata": {
        "id": "naQjfQ354ql5",
        "colab_type": "code",
        "colab": {}
      },
      "source": [
        "model = tf.keras.Sequential([tf.keras.layers.Dense(1,)])"
      ],
      "execution_count": 0,
      "outputs": []
    },
    {
      "cell_type": "markdown",
      "metadata": {
        "id": "OfoJsXiW8zCC",
        "colab_type": "text"
      },
      "source": [
        "# Briefly explain the parameters in the following statement.\n",
        "## This model.compile method configures the model for training. It deteremines the type of loss and the type of optimizer which will applied to the model to minimize the loss function.\n",
        "\n",
        "##**Parameters**:\n",
        "##**optimizer** : The goal of machine learning and deep learning is to reduce the difference between the predicted output and the actual output. This is also called as a Cost function(C) or Loss function. 'sgd' is an iterative optimization algorithm which updates the weights in the right direction to minimize the loss function.\n",
        "##**loss** : This determines the difference betwwen the real output and the predicted output. Mean_Squared_error is commonly used loss function for regression model. in this loss function we take the mean of squared difference of real output and predicted output.  \n",
        "##**metrics**: Here the mse is chosen as a metrics which is mean_squared_error. It is a basis for the evaluation of our model.The lesser the value of error, the better the model will be in predicting the real life and unseen inputs.\n",
        "\n",
        "\n"
      ]
    },
    {
      "cell_type": "code",
      "metadata": {
        "id": "QBFVUxN35Cu9",
        "colab_type": "code",
        "colab": {}
      },
      "source": [
        "model.compile(optimizer = 'sgd' , loss = 'mean_squared_error' , metrics = ['mse'] )"
      ],
      "execution_count": 0,
      "outputs": []
    },
    {
      "cell_type": "markdown",
      "metadata": {
        "id": "WGrfUcxsCHv4",
        "colab_type": "text"
      },
      "source": [
        "# Explain why do we need history?\n",
        "##Keras provides the capability to register callbacks when training a deep learning model.One of the default callbacks that is registered when training all deep learning models is the History callback. It records training metrics for each epoch. This includes the loss and the accuracy for (classification problems) as well as the loss and accuracy for the validation dataset. In case of regression model we are able to plot the error vs epochs and loss vs epochs graphs"
      ]
    },
    {
      "cell_type": "code",
      "metadata": {
        "id": "NECaRPoKCB6N",
        "colab_type": "code",
        "colab": {}
      },
      "source": [
        "from tensorflow.keras.callbacks import History \n",
        "history = History()"
      ],
      "execution_count": 0,
      "outputs": []
    },
    {
      "cell_type": "markdown",
      "metadata": {
        "id": "yhdVJ6Xm8_R5",
        "colab_type": "text"
      },
      "source": [
        "# Explain parameters in the fit statement.\n",
        "##First we need to provide the input and target variables from which our model will learn. The weights are initalized, the inputs are processed, the output is predicted, then we compare the real output with the predicted one. Then we backpropagate and update the weights.\n",
        "\n",
        "##We determine the number of epochs, The number of times the complete dataset will be processed. The number of times the complete dataset will be iterated.\n",
        "\n",
        "##verbose =1 , if we want to display the training of model\n",
        "\n",
        "## validation_split is used to determine the validation_data that will be used to test our model on unseen datasets while traning.\n",
        "\n",
        "##callbacks = The history object is returned from calls to the fit() function used to train the model. Metrics are stored in a dictionary in the history member of the object returned."
      ]
    },
    {
      "cell_type": "code",
      "metadata": {
        "id": "uECBKPn55Fgd",
        "colab_type": "code",
        "outputId": "bdf82855-f3f0-4e53-a014-cd57ff198e7e",
        "colab": {
          "base_uri": "https://localhost:8080/",
          "height": 391
        }
      },
      "source": [
        "model.fit(input_1 , z , epochs = 10 , verbose = 1, validation_split=0.2, callbacks=[history])"
      ],
      "execution_count": 18,
      "outputs": [
        {
          "output_type": "stream",
          "text": [
            "Train on 800 samples, validate on 200 samples\n",
            "Epoch 1/10\n",
            "800/800 [==============================] - 0s 419us/sample - loss: 119.9525 - mse: 119.9525 - val_loss: 10.8745 - val_mse: 10.8745\n",
            "Epoch 2/10\n",
            "800/800 [==============================] - 0s 64us/sample - loss: 7.0069 - mse: 7.0069 - val_loss: 4.2015 - val_mse: 4.2015\n",
            "Epoch 3/10\n",
            "800/800 [==============================] - 0s 70us/sample - loss: 2.7813 - mse: 2.7813 - val_loss: 1.8250 - val_mse: 1.8250\n",
            "Epoch 4/10\n",
            "800/800 [==============================] - 0s 67us/sample - loss: 1.2281 - mse: 1.2281 - val_loss: 0.8757 - val_mse: 0.8757\n",
            "Epoch 5/10\n",
            "800/800 [==============================] - 0s 65us/sample - loss: 0.6642 - mse: 0.6642 - val_loss: 0.5351 - val_mse: 0.5351\n",
            "Epoch 6/10\n",
            "800/800 [==============================] - 0s 65us/sample - loss: 0.4588 - mse: 0.4588 - val_loss: 0.4085 - val_mse: 0.4085\n",
            "Epoch 7/10\n",
            "800/800 [==============================] - 0s 61us/sample - loss: 0.3861 - mse: 0.3861 - val_loss: 0.3575 - val_mse: 0.3575\n",
            "Epoch 8/10\n",
            "800/800 [==============================] - 0s 64us/sample - loss: 0.3589 - mse: 0.3589 - val_loss: 0.3441 - val_mse: 0.3441\n",
            "Epoch 9/10\n",
            "800/800 [==============================] - 0s 70us/sample - loss: 0.3470 - mse: 0.3470 - val_loss: 0.3335 - val_mse: 0.3335\n",
            "Epoch 10/10\n",
            "800/800 [==============================] - 0s 65us/sample - loss: 0.3458 - mse: 0.3458 - val_loss: 0.3250 - val_mse: 0.3250\n"
          ],
          "name": "stdout"
        },
        {
          "output_type": "execute_result",
          "data": {
            "text/plain": [
              "<tensorflow.python.keras.callbacks.History at 0x7f742343fdd8>"
            ]
          },
          "metadata": {
            "tags": []
          },
          "execution_count": 18
        }
      ]
    },
    {
      "cell_type": "markdown",
      "metadata": {
        "id": "8eViRlnM_QKy",
        "colab_type": "text"
      },
      "source": [
        "Predicting output on unknown values, x = 2 and y = 3"
      ]
    },
    {
      "cell_type": "code",
      "metadata": {
        "id": "3ehKzDpb70uc",
        "colab_type": "code",
        "outputId": "2f4f212f-d01a-43bc-df1e-90acea880054",
        "colab": {
          "base_uri": "https://localhost:8080/",
          "height": 34
        }
      },
      "source": [
        "result = model.predict([[2,3]])\n",
        "print(result)"
      ],
      "execution_count": 19,
      "outputs": [
        {
          "output_type": "stream",
          "text": [
            "[[37.004883]]\n"
          ],
          "name": "stdout"
        }
      ]
    },
    {
      "cell_type": "markdown",
      "metadata": {
        "id": "YjugwaRZ_kW3",
        "colab_type": "text"
      },
      "source": [
        "# in the above statement, print on the float value and not its data type."
      ]
    },
    {
      "cell_type": "code",
      "metadata": {
        "id": "-ZU9tVZL75ee",
        "colab_type": "code",
        "outputId": "1aefb1c4-37e2-428c-a52b-070f62bf5aa2",
        "colab": {
          "base_uri": "https://localhost:8080/",
          "height": 34
        }
      },
      "source": [
        "#checking from equation \n",
        "#z = 7*x + 6*y + 5 + bias\n",
        "print(7*2 + 6*3 + 5)"
      ],
      "execution_count": 20,
      "outputs": [
        {
          "output_type": "stream",
          "text": [
            "37\n"
          ],
          "name": "stdout"
        }
      ]
    },
    {
      "cell_type": "markdown",
      "metadata": {
        "id": "o9gfoz2_9YGw",
        "colab_type": "text"
      },
      "source": [
        "# Interpret the plot below\n",
        "## Sir here a graph is plotted between the real_output and predicted_output.\n",
        "##Predicted_output : z , we have also used to np.squeeze to maintain the dimensionality between real_output and predicted_output.(both os same dimensions)\n",
        "##Real_output : Here the real output is potrayed as model.predict_on_batch(input_1))."
      ]
    },
    {
      "cell_type": "code",
      "metadata": {
        "id": "SGitmWyB8IiB",
        "colab_type": "code",
        "outputId": "715c2a5d-dae2-4cdb-bc92-de7b34e2aec8",
        "colab": {
          "base_uri": "https://localhost:8080/",
          "height": 280
        }
      },
      "source": [
        "import matplotlib.pyplot as plt\n",
        "\n",
        "plt.plot(np.squeeze(model.predict_on_batch(input_1)), np.squeeze(z))\n",
        "plt.xlabel('predicted_output')\n",
        "plt.ylabel('real_output')\n",
        "plt.show()"
      ],
      "execution_count": 21,
      "outputs": [
        {
          "output_type": "display_data",
          "data": {
            "image/png": "[encoded data removed]",
            "text/plain": [
              "<Figure size 432x288 with 1 Axes>"
            ]
          },
          "metadata": {
            "tags": []
          }
        }
      ]
    },
    {
      "cell_type": "markdown",
      "metadata": {
        "id": "mt7iXQJi9j57",
        "colab_type": "text"
      },
      "source": [
        "# Explain the parameters and what evaluate function does. What is the significance of batch_size?\n",
        "##model.evaluate : Returns the loss value & metrics values for the model in test mode. Here we have provided the test_input data and test_target data.\n",
        "##Batch_size : model.evaluate will run on our test_data same when we were training our model. So updation of weights takes place here also. So batch_size detemines the number of samples which will be updated after gradient update. \n"
      ]
    },
    {
      "cell_type": "code",
      "metadata": {
        "id": "d1JemdSF8am2",
        "colab_type": "code",
        "outputId": "8b74ea1d-c628-430c-9c4c-a7aef3ca03e3",
        "colab": {
          "base_uri": "https://localhost:8080/",
          "height": 34
        }
      },
      "source": [
        "results = model.evaluate(input_1 , z , batch_size = 16)"
      ],
      "execution_count": 22,
      "outputs": [
        {
          "output_type": "stream",
          "text": [
            "1000/1000 [==============================] - 0s 66us/sample - loss: 0.3372 - mse: 0.3372\n"
          ],
          "name": "stdout"
        }
      ]
    },
    {
      "cell_type": "markdown",
      "metadata": {
        "id": "ZxccMWWF96Tm",
        "colab_type": "text"
      },
      "source": [
        "# Which is the loss and which one is error? What do they signify?\n",
        "\n",
        "\n",
        "\n",
        "##Loss: Value of the objective function we are minimizing. This value could be a positive or negative number, depending on the specific objective function.\n",
        "\n",
        "##Error: Self defined interpretable metric of our model's performance. Usually means what % of training examples the model got incorrect. This is always a value between 0 and 1.It is basically used to determine the percentage of incorrect values.\n"
      ]
    },
    {
      "cell_type": "code",
      "metadata": {
        "id": "C5tweVs78nbQ",
        "colab_type": "code",
        "outputId": "a407e1dc-323d-4571-8a8c-a6923ad8b4f2",
        "colab": {
          "base_uri": "https://localhost:8080/",
          "height": 51
        }
      },
      "source": [
        "print('loss  : {}'.format(results[0]))\n",
        "print('error : {}'.format(results[1]))\n",
        "#printing loss and error of dataset."
      ],
      "execution_count": 23,
      "outputs": [
        {
          "output_type": "stream",
          "text": [
            "loss  : 0.3372494370937347\n",
            "error : 0.33724942803382874\n"
          ],
          "name": "stdout"
        }
      ]
    },
    {
      "cell_type": "markdown",
      "metadata": {
        "id": "nuJNF5LDCR9Q",
        "colab_type": "text"
      },
      "source": [
        "# Plotting Accuracy on each iteration. Explain all the statements below and interpret the chart.\n",
        "##As the metrics defined was mean_squared_error , graph of accuracy was not printed and as i checked only mse and mase and few others metrics where available for  neural networks regression problem. 'accuracy' metrics is present for classification problem.\n",
        "\n",
        "## Two different graphs are plotted mse vs epochs and loss vs epochs.\n",
        "## I have explained the code line by line for intepretation."
      ]
    },
    {
      "cell_type": "code",
      "metadata": {
        "id": "3WbjsaGSCaqO",
        "colab_type": "code",
        "outputId": "3e1a755d-32f1-4721-a6fe-22d47ec743ac",
        "colab": {
          "base_uri": "https://localhost:8080/",
          "height": 295
        }
      },
      "source": [
        "#is this line we are using plt.plot to print the loss function which is stored in hitory.history module.\n",
        "plt.plot(history.history['loss'])\n",
        "#is this line we are using plt.plot to print the  validation loss  which is stored in hitory.history module.\n",
        "plt.plot(history.history['val_loss'])\n",
        "\n",
        "#using pyplot module of matplotlib library to print the model's title\n",
        "plt.title('model loss')\n",
        "\n",
        "#using pyplot module of matplotlib library to print the model's ylabel\n",
        "plt.ylabel('loss')\n",
        "\n",
        "#using pyplot module of matplotlib library to print the model's xlabel\n",
        "plt.xlabel('epoch')\n",
        "plt.legend(['train', 'validation'], loc='upper right')\n",
        "plt.show()"
      ],
      "execution_count": 24,
      "outputs": [
        {
          "output_type": "display_data",
          "data": {
            "image/png": "[encoded data removed]",
            "text/plain": [
              "<Figure size 432x288 with 1 Axes>"
            ]
          },
          "metadata": {
            "tags": []
          }
        }
      ]
    },
    {
      "cell_type": "markdown",
      "metadata": {
        "id": "sGDg40chDAn0",
        "colab_type": "text"
      },
      "source": [
        "# Explain the purpose of following code and interpret the chart.\n",
        "##Here this code was just used to plot the graph between the mean_squarred error of model and number of epochs over the dataset has been iterated. For every epoch , the mse is calculated and the graph is plotted \n",
        "\n",
        "##as I declared above, mse is used to determine the percentage of wrong predcitions or incorrect values."
      ]
    },
    {
      "cell_type": "code",
      "metadata": {
        "id": "nmz8VpOyC7fq",
        "colab_type": "code",
        "outputId": "655bc17e-83ce-4071-b475-a3630f357618",
        "colab": {
          "base_uri": "https://localhost:8080/",
          "height": 295
        }
      },
      "source": [
        "#is this line we are using plt.plot to print the loss function which is stored in hitory.history module.\n",
        "plt.plot(history.history['mse'])\n",
        "#is this line we are using plt.plot to print the  validation loss  which is stored in hitory.history module.\n",
        "plt.plot(history.history['val_mse'])\n",
        "\n",
        "#using pyplot module of matplotlib library to print the model's title\n",
        "plt.title('model mse')\n",
        "\n",
        "#using pyplot module of matplotlib library to print the model's ylabel\n",
        "plt.ylabel('mse')\n",
        "\n",
        "#using pyplot module of matplotlib library to print the model's xlabel\n",
        "plt.xlabel('epoch')\n",
        "plt.legend(['train', 'validation'], loc='upper right')\n",
        "plt.show()"
      ],
      "execution_count": 25,
      "outputs": [
        {
          "output_type": "display_data",
          "data": {
            "image/png": "[encoded data removed]",
            "text/plain": [
              "<Figure size 432x288 with 1 Axes>"
            ]
          },
          "metadata": {
            "tags": []
          }
        }
      ]
    },
    {
      "cell_type": "code",
      "metadata": {
        "id": "SbOC7dpB4zxP",
        "colab_type": "code",
        "colab": {}
      },
      "source": [
        ""
      ],
      "execution_count": 0,
      "outputs": []
    }
  ]
}