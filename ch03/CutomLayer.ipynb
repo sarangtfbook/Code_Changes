{
  "nbformat": 4,
  "nbformat_minor": 0,
  "metadata": {
    "colab": {
      "name": "Copy of Ch03_CutomLayer.ipynb",
      "provenance": [],
      "private_outputs": true
    },
    "kernelspec": {
      "name": "python3",
      "display_name": "Python 3"
    },
    "accelerator": "GPU"
  },
  "cells": [
    {
      "cell_type": "code",
      "metadata": {
        "id": "ocQzsjcwmHqj",
        "colab_type": "code",
        "colab": {}
      },
      "source": [
        "tensorflow_version 2.x"
      ],
      "execution_count": null,
      "outputs": []
    },
    {
      "cell_type": "code",
      "metadata": {
        "id": "gCoSuKFumOrZ",
        "colab_type": "code",
        "colab": {}
      },
      "source": [
        "import tensorflow as tf\n",
        "from tensorflow import keras"
      ],
      "execution_count": null,
      "outputs": []
    },
    {
      "cell_type": "code",
      "metadata": {
        "id": "Sq09bC9hmXYX",
        "colab_type": "code",
        "colab": {}
      },
      "source": [
        "from tensorflow.keras.utils import plot_model"
      ],
      "execution_count": null,
      "outputs": []
    },
    {
      "cell_type": "code",
      "metadata": {
        "id": "hsj6rZVQmcp7",
        "colab_type": "code",
        "colab": {}
      },
      "source": [
        "# define custom class\n",
        "class MyLayer(tf.keras.layers.Layer):\n",
        "\n",
        "  def __init__(self, output_dim, ** kwargs):\n",
        "      self.output_dim = output_dim\n",
        "      super(MyLayer, self).__init__( ** kwargs)\n",
        "\n",
        "  def build(self, input_shape):\n",
        "      self.W = self.add_weight(\n",
        "                  name = 'kernel',\n",
        "                  shape = (input_shape[1], \n",
        "                           self.output_dim),\n",
        "                  initializer = 'uniform',\n",
        "                  trainable = True)\n",
        "      self.built = True\n",
        "\n",
        "  def call(self, x):\n",
        "      return tf.matmul(x, self.W)\n",
        "\n",
        "  def compute_output_shape(self, input_shape):\n",
        "      return (input_shape[0], self.output_dim)"
      ],
      "execution_count": null,
      "outputs": []
    },
    {
      "cell_type": "code",
      "metadata": {
        "id": "lMraesZ2mfIs",
        "colab_type": "code",
        "colab": {}
      },
      "source": [
        "# define model containing custom layer\n",
        "model = tf.keras.Sequential([tf.keras.layers.Dense(256 , input_shape=(784,)),\n",
        "                             tf.keras.layers.Dense(256, activation = 'relu'),\n",
        "                             MyLayer(10),\n",
        "                             tf.keras.layers.Dense(10 , activation = 'softmax')])"
      ],
      "execution_count": null,
      "outputs": []
    },
    {
      "cell_type": "code",
      "metadata": {
        "id": "fPafCv-Kmgx2",
        "colab_type": "code",
        "colab": {}
      },
      "source": [
        "plot_model (model)"
      ],
      "execution_count": null,
      "outputs": []
    },
    {
      "cell_type": "code",
      "metadata": {
        "id": "unc51BjGmkln",
        "colab_type": "code",
        "colab": {}
      },
      "source": [
        "batch_size = 128\n",
        "num_classes = 10\n",
        "epochs = 20"
      ],
      "execution_count": null,
      "outputs": []
    },
    {
      "cell_type": "code",
      "metadata": {
        "id": "BKT5hck9mm1a",
        "colab_type": "code",
        "colab": {}
      },
      "source": [
        "# load dataset\n",
        "(x_train , y_train) , (x_test , y_test) = tf.keras.datasets.mnist.load_data()"
      ],
      "execution_count": null,
      "outputs": []
    },
    {
      "cell_type": "code",
      "metadata": {
        "id": "-e_z2lsimpaZ",
        "colab_type": "code",
        "colab": {}
      },
      "source": [
        "# preprocessing\n",
        "x_train = x_train.reshape(60000, 784)\n",
        "x_test = x_test.reshape(10000, 784)\n",
        "x_train = x_train.astype('float32')\n",
        "x_test = x_test.astype('float32')\n",
        "x_train /= 255\n",
        "x_test /= 255\n",
        "print(x_train.shape[0], 'train samples')\n",
        "print(x_test.shape[0], 'test samples')"
      ],
      "execution_count": null,
      "outputs": []
    },
    {
      "cell_type": "code",
      "metadata": {
        "id": "Y1Ih7YfCmslc",
        "colab_type": "code",
        "colab": {}
      },
      "source": [
        "# treat categorical columns\n",
        "y_train = tf.keras.utils.to_categorical(y_train, num_classes)\n",
        "y_test = tf.keras.utils.to_categorical(y_test, num_classes)"
      ],
      "execution_count": null,
      "outputs": []
    },
    {
      "cell_type": "code",
      "metadata": {
        "id": "YnZjMCL3muc-",
        "colab_type": "code",
        "colab": {}
      },
      "source": [
        "# compile\n",
        "model.compile(loss='categorical_crossentropy',\n",
        "              optimizer='rmsprop',\n",
        "              metrics=['accuracy'])"
      ],
      "execution_count": null,
      "outputs": []
    },
    {
      "cell_type": "code",
      "metadata": {
        "id": "xUl-AKsSmwp6",
        "colab_type": "code",
        "colab": {}
      },
      "source": [
        "# train\n",
        "model.fit(x_train, y_train,\n",
        "          batch_size=batch_size,\n",
        "          epochs=epochs,\n",
        "          verbose=1,\n",
        "          validation_data=(x_test, y_test))"
      ],
      "execution_count": null,
      "outputs": []
    }
  ]
}