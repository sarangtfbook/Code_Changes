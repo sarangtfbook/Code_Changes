{
  "nbformat": 4,
  "nbformat_minor": 0,
  "metadata": {
    "colab": {
      "name": "VDJ LinearRegression.ipynb",
      "provenance": [],
      "private_outputs": true,
      "collapsed_sections": []
    },
    "kernelspec": {
      "name": "python3",
      "display_name": "Python 3"
    },
    "accelerator": "GPU"
  },
  "cells": [
    {
      "cell_type": "code",
      "metadata": {
        "id": "ubRS6OK5lNR1",
        "colab_type": "code",
        "colab": {}
      },
      "source": [
        "import tensorflow as tf\n",
        "from tensorflow import keras\n",
        "import pandas as pd"
      ],
      "execution_count": null,
      "outputs": []
    },
    {
      "cell_type": "markdown",
      "metadata": {
        "id": "rGDOvAi662Wk",
        "colab_type": "text"
      },
      "source": [
        "# Load Data"
      ]
    },
    {
      "cell_type": "code",
      "metadata": {
        "id": "ffP747NJ3e4E",
        "colab_type": "code",
        "colab": {}
      },
      "source": [
        "!pip install wget\n",
        "import wget"
      ],
      "execution_count": null,
      "outputs": []
    },
    {
      "cell_type": "code",
      "metadata": {
        "id": "F8I9Fhq7-aAn",
        "colab_type": "code",
        "colab": {}
      },
      "source": [
        "# the file is stored at book's site\n",
        "url = 'https://raw.githubusercontent.com/Apress/Artificial-Neural-Networks-with-TensorFlow-2/master/ch05/student.csv'\n",
        "wget.download(url,'data.csv')"
      ],
      "execution_count": null,
      "outputs": []
    },
    {
      "cell_type": "markdown",
      "metadata": {
        "id": "o02NgOuv6-wg",
        "colab_type": "text"
      },
      "source": [
        "# Prepare Data"
      ]
    },
    {
      "cell_type": "code",
      "metadata": {
        "id": "jirRXL5x-eXc",
        "colab_type": "code",
        "colab": {}
      },
      "source": [
        "# Load data into pandas\n",
        "import pandas as pd\n",
        "df=pd.read_csv('/content/data.csv')\n",
        "df.head(10)"
      ],
      "execution_count": null,
      "outputs": []
    },
    {
      "cell_type": "code",
      "metadata": {
        "id": "q8zmw7f92Krz",
        "colab_type": "code",
        "colab": {}
      },
      "source": [
        "# Extract features and label\n",
        "dataset = df.values\n",
        "X = dataset[:,1]\n",
        "y = dataset[:,0]"
      ],
      "execution_count": null,
      "outputs": []
    },
    {
      "cell_type": "markdown",
      "metadata": {
        "id": "-8-WqFjW7Cqv",
        "colab_type": "text"
      },
      "source": [
        "# Model Definition/Training"
      ]
    },
    {
      "cell_type": "code",
      "metadata": {
        "id": "XDsG-RZ1dzpG",
        "colab_type": "code",
        "colab": {}
      },
      "source": [
        "model = tf.keras.Sequential([tf.keras.layers.Dense(units=1, input_shape=[1])])\n",
        "model.compile(optimizer='sgd', loss='mean_squared_error')\n",
        "model.fit(X, y, epochs=15)"
      ],
      "execution_count": null,
      "outputs": []
    },
    {
      "cell_type": "markdown",
      "metadata": {
        "id": "5xE1EhOa7INQ",
        "colab_type": "text"
      },
      "source": [
        "# Predict Unseen Data"
      ]
    },
    {
      "cell_type": "code",
      "metadata": {
        "id": "aiSKl2iDfc4D",
        "colab_type": "code",
        "colab": {}
      },
      "source": [
        "result = model.predict([5.0])\n",
        "print(\"Expected SAT score for GPA 5.0: {:.0f}\".format(result[0][0]))\n",
        "result = model.predict([3.2])\n",
        "print(\"Expected SAT score for GPA 3.2: {:.0f}\".format(result[0][0]))"
      ],
      "execution_count": null,
      "outputs": []
    }
  ]
}